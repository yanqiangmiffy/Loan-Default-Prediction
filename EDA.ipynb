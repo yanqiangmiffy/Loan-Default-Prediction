{
 "cells": [
  {
   "cell_type": "markdown",
   "metadata": {},
   "source": [
    "### 1 读取数据"
   ]
  },
  {
   "cell_type": "code",
   "execution_count": 1,
   "metadata": {},
   "outputs": [],
   "source": [
    "import pandas as pd\n",
    "import numpy as np\n",
    "from tqdm import tqdm\n",
    "import warnings\n",
    "import datetime\n",
    "from sklearn.preprocessing import LabelEncoder\n",
    "warnings.filterwarnings(\"ignore\")\n",
    "pd.set_option('display.max_columns', 500)"
   ]
  },
  {
   "cell_type": "code",
   "execution_count": 2,
   "metadata": {},
   "outputs": [],
   "source": [
    "\n",
    "def statics(data):\n",
    "    print(data.shape)\n",
    "    stats = []\n",
    "    for col in data.columns:\n",
    "        stats.append((col, data[col].nunique(), data[col].isnull().sum() * 100 / data.shape[0],\n",
    "                      data[col].value_counts(normalize=True, dropna=False).values[0] * 100, data[col].dtype))\n",
    "\n",
    "    stats_df = pd.DataFrame(stats, columns=['Feature', 'Unique_values', 'Percentage_of_missing_values',\n",
    "                                            'Percentage_of_values_in_the_biggest category', 'type'])\n",
    "    stats_df.sort_values('Percentage_of_missing_values', ascending=False, inplace=True)\n",
    "    return stats_df"
   ]
  },
  {
   "cell_type": "code",
   "execution_count": 3,
   "metadata": {},
   "outputs": [],
   "source": [
    "train=pd.read_csv('data/train.csv')\n",
    "test=pd.read_csv('data/testA.csv')"
   ]
  },
  {
   "cell_type": "code",
   "execution_count": 4,
   "metadata": {},
   "outputs": [
    {
     "data": {
      "text/html": [
       "<div>\n",
       "<style scoped>\n",
       "    .dataframe tbody tr th:only-of-type {\n",
       "        vertical-align: middle;\n",
       "    }\n",
       "\n",
       "    .dataframe tbody tr th {\n",
       "        vertical-align: top;\n",
       "    }\n",
       "\n",
       "    .dataframe thead th {\n",
       "        text-align: right;\n",
       "    }\n",
       "</style>\n",
       "<table border=\"1\" class=\"dataframe\">\n",
       "  <thead>\n",
       "    <tr style=\"text-align: right;\">\n",
       "      <th></th>\n",
       "      <th>id</th>\n",
       "      <th>loanAmnt</th>\n",
       "      <th>term</th>\n",
       "      <th>interestRate</th>\n",
       "      <th>installment</th>\n",
       "      <th>grade</th>\n",
       "      <th>subGrade</th>\n",
       "      <th>employmentTitle</th>\n",
       "      <th>employmentLength</th>\n",
       "      <th>homeOwnership</th>\n",
       "      <th>annualIncome</th>\n",
       "      <th>verificationStatus</th>\n",
       "      <th>issueDate</th>\n",
       "      <th>isDefault</th>\n",
       "      <th>purpose</th>\n",
       "      <th>postCode</th>\n",
       "      <th>regionCode</th>\n",
       "      <th>dti</th>\n",
       "      <th>delinquency_2years</th>\n",
       "      <th>ficoRangeLow</th>\n",
       "      <th>ficoRangeHigh</th>\n",
       "      <th>openAcc</th>\n",
       "      <th>pubRec</th>\n",
       "      <th>pubRecBankruptcies</th>\n",
       "      <th>revolBal</th>\n",
       "      <th>revolUtil</th>\n",
       "      <th>totalAcc</th>\n",
       "      <th>initialListStatus</th>\n",
       "      <th>applicationType</th>\n",
       "      <th>earliesCreditLine</th>\n",
       "      <th>title</th>\n",
       "      <th>policyCode</th>\n",
       "      <th>n0</th>\n",
       "      <th>n1</th>\n",
       "      <th>n2</th>\n",
       "      <th>n2.1</th>\n",
       "      <th>n4</th>\n",
       "      <th>n5</th>\n",
       "      <th>n6</th>\n",
       "      <th>n7</th>\n",
       "      <th>n8</th>\n",
       "      <th>n9</th>\n",
       "      <th>n10</th>\n",
       "      <th>n11</th>\n",
       "      <th>n12</th>\n",
       "      <th>n13</th>\n",
       "      <th>n14</th>\n",
       "    </tr>\n",
       "  </thead>\n",
       "  <tbody>\n",
       "    <tr>\n",
       "      <th>0</th>\n",
       "      <td>0</td>\n",
       "      <td>35000.0</td>\n",
       "      <td>5</td>\n",
       "      <td>19.52</td>\n",
       "      <td>917.97</td>\n",
       "      <td>E</td>\n",
       "      <td>E2</td>\n",
       "      <td>320.0</td>\n",
       "      <td>2 years</td>\n",
       "      <td>2</td>\n",
       "      <td>110000.0</td>\n",
       "      <td>2</td>\n",
       "      <td>2014-07-01</td>\n",
       "      <td>1</td>\n",
       "      <td>1</td>\n",
       "      <td>137.0</td>\n",
       "      <td>32</td>\n",
       "      <td>17.05</td>\n",
       "      <td>0.0</td>\n",
       "      <td>730.0</td>\n",
       "      <td>734.0</td>\n",
       "      <td>7.0</td>\n",
       "      <td>0.0</td>\n",
       "      <td>0.0</td>\n",
       "      <td>24178.0</td>\n",
       "      <td>48.9</td>\n",
       "      <td>27.0</td>\n",
       "      <td>0</td>\n",
       "      <td>0</td>\n",
       "      <td>Aug-2001</td>\n",
       "      <td>1.0</td>\n",
       "      <td>1.0</td>\n",
       "      <td>0.0</td>\n",
       "      <td>2.0</td>\n",
       "      <td>2.0</td>\n",
       "      <td>2.0</td>\n",
       "      <td>4.0</td>\n",
       "      <td>9.0</td>\n",
       "      <td>8.0</td>\n",
       "      <td>4.0</td>\n",
       "      <td>12.0</td>\n",
       "      <td>2.0</td>\n",
       "      <td>7.0</td>\n",
       "      <td>0.0</td>\n",
       "      <td>0.0</td>\n",
       "      <td>0.0</td>\n",
       "      <td>2.0</td>\n",
       "    </tr>\n",
       "    <tr>\n",
       "      <th>1</th>\n",
       "      <td>1</td>\n",
       "      <td>18000.0</td>\n",
       "      <td>5</td>\n",
       "      <td>18.49</td>\n",
       "      <td>461.90</td>\n",
       "      <td>D</td>\n",
       "      <td>D2</td>\n",
       "      <td>219843.0</td>\n",
       "      <td>5 years</td>\n",
       "      <td>0</td>\n",
       "      <td>46000.0</td>\n",
       "      <td>2</td>\n",
       "      <td>2012-08-01</td>\n",
       "      <td>0</td>\n",
       "      <td>0</td>\n",
       "      <td>156.0</td>\n",
       "      <td>18</td>\n",
       "      <td>27.83</td>\n",
       "      <td>0.0</td>\n",
       "      <td>700.0</td>\n",
       "      <td>704.0</td>\n",
       "      <td>13.0</td>\n",
       "      <td>0.0</td>\n",
       "      <td>0.0</td>\n",
       "      <td>15096.0</td>\n",
       "      <td>38.9</td>\n",
       "      <td>18.0</td>\n",
       "      <td>1</td>\n",
       "      <td>0</td>\n",
       "      <td>May-2002</td>\n",
       "      <td>1723.0</td>\n",
       "      <td>1.0</td>\n",
       "      <td>NaN</td>\n",
       "      <td>NaN</td>\n",
       "      <td>NaN</td>\n",
       "      <td>NaN</td>\n",
       "      <td>10.0</td>\n",
       "      <td>NaN</td>\n",
       "      <td>NaN</td>\n",
       "      <td>NaN</td>\n",
       "      <td>NaN</td>\n",
       "      <td>NaN</td>\n",
       "      <td>13.0</td>\n",
       "      <td>NaN</td>\n",
       "      <td>NaN</td>\n",
       "      <td>NaN</td>\n",
       "      <td>NaN</td>\n",
       "    </tr>\n",
       "    <tr>\n",
       "      <th>2</th>\n",
       "      <td>2</td>\n",
       "      <td>12000.0</td>\n",
       "      <td>5</td>\n",
       "      <td>16.99</td>\n",
       "      <td>298.17</td>\n",
       "      <td>D</td>\n",
       "      <td>D3</td>\n",
       "      <td>31698.0</td>\n",
       "      <td>8 years</td>\n",
       "      <td>0</td>\n",
       "      <td>74000.0</td>\n",
       "      <td>2</td>\n",
       "      <td>2015-10-01</td>\n",
       "      <td>0</td>\n",
       "      <td>0</td>\n",
       "      <td>337.0</td>\n",
       "      <td>14</td>\n",
       "      <td>22.77</td>\n",
       "      <td>0.0</td>\n",
       "      <td>675.0</td>\n",
       "      <td>679.0</td>\n",
       "      <td>11.0</td>\n",
       "      <td>0.0</td>\n",
       "      <td>0.0</td>\n",
       "      <td>4606.0</td>\n",
       "      <td>51.8</td>\n",
       "      <td>27.0</td>\n",
       "      <td>0</td>\n",
       "      <td>0</td>\n",
       "      <td>May-2006</td>\n",
       "      <td>0.0</td>\n",
       "      <td>1.0</td>\n",
       "      <td>0.0</td>\n",
       "      <td>0.0</td>\n",
       "      <td>3.0</td>\n",
       "      <td>3.0</td>\n",
       "      <td>0.0</td>\n",
       "      <td>0.0</td>\n",
       "      <td>21.0</td>\n",
       "      <td>4.0</td>\n",
       "      <td>5.0</td>\n",
       "      <td>3.0</td>\n",
       "      <td>11.0</td>\n",
       "      <td>0.0</td>\n",
       "      <td>0.0</td>\n",
       "      <td>0.0</td>\n",
       "      <td>4.0</td>\n",
       "    </tr>\n",
       "    <tr>\n",
       "      <th>3</th>\n",
       "      <td>3</td>\n",
       "      <td>11000.0</td>\n",
       "      <td>3</td>\n",
       "      <td>7.26</td>\n",
       "      <td>340.96</td>\n",
       "      <td>A</td>\n",
       "      <td>A4</td>\n",
       "      <td>46854.0</td>\n",
       "      <td>10+ years</td>\n",
       "      <td>1</td>\n",
       "      <td>118000.0</td>\n",
       "      <td>1</td>\n",
       "      <td>2015-08-01</td>\n",
       "      <td>0</td>\n",
       "      <td>4</td>\n",
       "      <td>148.0</td>\n",
       "      <td>11</td>\n",
       "      <td>17.21</td>\n",
       "      <td>0.0</td>\n",
       "      <td>685.0</td>\n",
       "      <td>689.0</td>\n",
       "      <td>9.0</td>\n",
       "      <td>0.0</td>\n",
       "      <td>0.0</td>\n",
       "      <td>9948.0</td>\n",
       "      <td>52.6</td>\n",
       "      <td>28.0</td>\n",
       "      <td>1</td>\n",
       "      <td>0</td>\n",
       "      <td>May-1999</td>\n",
       "      <td>4.0</td>\n",
       "      <td>1.0</td>\n",
       "      <td>6.0</td>\n",
       "      <td>4.0</td>\n",
       "      <td>6.0</td>\n",
       "      <td>6.0</td>\n",
       "      <td>4.0</td>\n",
       "      <td>16.0</td>\n",
       "      <td>4.0</td>\n",
       "      <td>7.0</td>\n",
       "      <td>21.0</td>\n",
       "      <td>6.0</td>\n",
       "      <td>9.0</td>\n",
       "      <td>0.0</td>\n",
       "      <td>0.0</td>\n",
       "      <td>0.0</td>\n",
       "      <td>1.0</td>\n",
       "    </tr>\n",
       "    <tr>\n",
       "      <th>4</th>\n",
       "      <td>4</td>\n",
       "      <td>3000.0</td>\n",
       "      <td>3</td>\n",
       "      <td>12.99</td>\n",
       "      <td>101.07</td>\n",
       "      <td>C</td>\n",
       "      <td>C2</td>\n",
       "      <td>54.0</td>\n",
       "      <td>NaN</td>\n",
       "      <td>1</td>\n",
       "      <td>29000.0</td>\n",
       "      <td>2</td>\n",
       "      <td>2016-03-01</td>\n",
       "      <td>0</td>\n",
       "      <td>10</td>\n",
       "      <td>301.0</td>\n",
       "      <td>21</td>\n",
       "      <td>32.16</td>\n",
       "      <td>0.0</td>\n",
       "      <td>690.0</td>\n",
       "      <td>694.0</td>\n",
       "      <td>12.0</td>\n",
       "      <td>0.0</td>\n",
       "      <td>0.0</td>\n",
       "      <td>2942.0</td>\n",
       "      <td>32.0</td>\n",
       "      <td>27.0</td>\n",
       "      <td>0</td>\n",
       "      <td>0</td>\n",
       "      <td>Aug-1977</td>\n",
       "      <td>11.0</td>\n",
       "      <td>1.0</td>\n",
       "      <td>1.0</td>\n",
       "      <td>2.0</td>\n",
       "      <td>7.0</td>\n",
       "      <td>7.0</td>\n",
       "      <td>2.0</td>\n",
       "      <td>4.0</td>\n",
       "      <td>9.0</td>\n",
       "      <td>10.0</td>\n",
       "      <td>15.0</td>\n",
       "      <td>7.0</td>\n",
       "      <td>12.0</td>\n",
       "      <td>0.0</td>\n",
       "      <td>0.0</td>\n",
       "      <td>0.0</td>\n",
       "      <td>4.0</td>\n",
       "    </tr>\n",
       "  </tbody>\n",
       "</table>\n",
       "</div>"
      ],
      "text/plain": [
       "   id  loanAmnt  term  interestRate  installment grade subGrade  \\\n",
       "0   0   35000.0     5         19.52       917.97     E       E2   \n",
       "1   1   18000.0     5         18.49       461.90     D       D2   \n",
       "2   2   12000.0     5         16.99       298.17     D       D3   \n",
       "3   3   11000.0     3          7.26       340.96     A       A4   \n",
       "4   4    3000.0     3         12.99       101.07     C       C2   \n",
       "\n",
       "   employmentTitle employmentLength  homeOwnership  annualIncome  \\\n",
       "0            320.0          2 years              2      110000.0   \n",
       "1         219843.0          5 years              0       46000.0   \n",
       "2          31698.0          8 years              0       74000.0   \n",
       "3          46854.0        10+ years              1      118000.0   \n",
       "4             54.0              NaN              1       29000.0   \n",
       "\n",
       "   verificationStatus   issueDate  isDefault  purpose  postCode  regionCode  \\\n",
       "0                   2  2014-07-01          1        1     137.0          32   \n",
       "1                   2  2012-08-01          0        0     156.0          18   \n",
       "2                   2  2015-10-01          0        0     337.0          14   \n",
       "3                   1  2015-08-01          0        4     148.0          11   \n",
       "4                   2  2016-03-01          0       10     301.0          21   \n",
       "\n",
       "     dti  delinquency_2years  ficoRangeLow  ficoRangeHigh  openAcc  pubRec  \\\n",
       "0  17.05                 0.0         730.0          734.0      7.0     0.0   \n",
       "1  27.83                 0.0         700.0          704.0     13.0     0.0   \n",
       "2  22.77                 0.0         675.0          679.0     11.0     0.0   \n",
       "3  17.21                 0.0         685.0          689.0      9.0     0.0   \n",
       "4  32.16                 0.0         690.0          694.0     12.0     0.0   \n",
       "\n",
       "   pubRecBankruptcies  revolBal  revolUtil  totalAcc  initialListStatus  \\\n",
       "0                 0.0   24178.0       48.9      27.0                  0   \n",
       "1                 0.0   15096.0       38.9      18.0                  1   \n",
       "2                 0.0    4606.0       51.8      27.0                  0   \n",
       "3                 0.0    9948.0       52.6      28.0                  1   \n",
       "4                 0.0    2942.0       32.0      27.0                  0   \n",
       "\n",
       "   applicationType earliesCreditLine   title  policyCode   n0   n1   n2  n2.1  \\\n",
       "0                0          Aug-2001     1.0         1.0  0.0  2.0  2.0   2.0   \n",
       "1                0          May-2002  1723.0         1.0  NaN  NaN  NaN   NaN   \n",
       "2                0          May-2006     0.0         1.0  0.0  0.0  3.0   3.0   \n",
       "3                0          May-1999     4.0         1.0  6.0  4.0  6.0   6.0   \n",
       "4                0          Aug-1977    11.0         1.0  1.0  2.0  7.0   7.0   \n",
       "\n",
       "     n4    n5    n6    n7    n8   n9   n10  n11  n12  n13  n14  \n",
       "0   4.0   9.0   8.0   4.0  12.0  2.0   7.0  0.0  0.0  0.0  2.0  \n",
       "1  10.0   NaN   NaN   NaN   NaN  NaN  13.0  NaN  NaN  NaN  NaN  \n",
       "2   0.0   0.0  21.0   4.0   5.0  3.0  11.0  0.0  0.0  0.0  4.0  \n",
       "3   4.0  16.0   4.0   7.0  21.0  6.0   9.0  0.0  0.0  0.0  1.0  \n",
       "4   2.0   4.0   9.0  10.0  15.0  7.0  12.0  0.0  0.0  0.0  4.0  "
      ]
     },
     "execution_count": 4,
     "metadata": {},
     "output_type": "execute_result"
    }
   ],
   "source": [
    "train.head()"
   ]
  },
  {
   "cell_type": "code",
   "execution_count": 5,
   "metadata": {},
   "outputs": [
    {
     "name": "stdout",
     "output_type": "stream",
     "text": [
      "(800000, 47)\n"
     ]
    },
    {
     "data": {
      "text/html": [
       "<div>\n",
       "<style scoped>\n",
       "    .dataframe tbody tr th:only-of-type {\n",
       "        vertical-align: middle;\n",
       "    }\n",
       "\n",
       "    .dataframe tbody tr th {\n",
       "        vertical-align: top;\n",
       "    }\n",
       "\n",
       "    .dataframe thead th {\n",
       "        text-align: right;\n",
       "    }\n",
       "</style>\n",
       "<table border=\"1\" class=\"dataframe\">\n",
       "  <thead>\n",
       "    <tr style=\"text-align: right;\">\n",
       "      <th></th>\n",
       "      <th>Feature</th>\n",
       "      <th>Unique_values</th>\n",
       "      <th>Percentage_of_missing_values</th>\n",
       "      <th>Percentage_of_values_in_the_biggest category</th>\n",
       "      <th>type</th>\n",
       "    </tr>\n",
       "  </thead>\n",
       "  <tbody>\n",
       "    <tr>\n",
       "      <th>43</th>\n",
       "      <td>n11</td>\n",
       "      <td>5</td>\n",
       "      <td>8.719000</td>\n",
       "      <td>91.210250</td>\n",
       "      <td>float64</td>\n",
       "    </tr>\n",
       "    <tr>\n",
       "      <th>8</th>\n",
       "      <td>employmentLength</td>\n",
       "      <td>11</td>\n",
       "      <td>5.849875</td>\n",
       "      <td>32.844125</td>\n",
       "      <td>object</td>\n",
       "    </tr>\n",
       "    <tr>\n",
       "      <th>40</th>\n",
       "      <td>n8</td>\n",
       "      <td>102</td>\n",
       "      <td>5.033875</td>\n",
       "      <td>5.601000</td>\n",
       "      <td>float64</td>\n",
       "    </tr>\n",
       "    <tr>\n",
       "      <th>39</th>\n",
       "      <td>n7</td>\n",
       "      <td>70</td>\n",
       "      <td>5.033750</td>\n",
       "      <td>10.416375</td>\n",
       "      <td>float64</td>\n",
       "    </tr>\n",
       "    <tr>\n",
       "      <th>33</th>\n",
       "      <td>n1</td>\n",
       "      <td>33</td>\n",
       "      <td>5.033750</td>\n",
       "      <td>20.376000</td>\n",
       "      <td>float64</td>\n",
       "    </tr>\n",
       "    <tr>\n",
       "      <th>34</th>\n",
       "      <td>n2</td>\n",
       "      <td>50</td>\n",
       "      <td>5.033750</td>\n",
       "      <td>14.651375</td>\n",
       "      <td>float64</td>\n",
       "    </tr>\n",
       "    <tr>\n",
       "      <th>35</th>\n",
       "      <td>n2.1</td>\n",
       "      <td>50</td>\n",
       "      <td>5.033750</td>\n",
       "      <td>14.651375</td>\n",
       "      <td>float64</td>\n",
       "    </tr>\n",
       "    <tr>\n",
       "      <th>37</th>\n",
       "      <td>n5</td>\n",
       "      <td>65</td>\n",
       "      <td>5.033750</td>\n",
       "      <td>9.572000</td>\n",
       "      <td>float64</td>\n",
       "    </tr>\n",
       "    <tr>\n",
       "      <th>38</th>\n",
       "      <td>n6</td>\n",
       "      <td>107</td>\n",
       "      <td>5.033750</td>\n",
       "      <td>8.086500</td>\n",
       "      <td>float64</td>\n",
       "    </tr>\n",
       "    <tr>\n",
       "      <th>46</th>\n",
       "      <td>n14</td>\n",
       "      <td>31</td>\n",
       "      <td>5.033750</td>\n",
       "      <td>23.437625</td>\n",
       "      <td>float64</td>\n",
       "    </tr>\n",
       "    <tr>\n",
       "      <th>41</th>\n",
       "      <td>n9</td>\n",
       "      <td>44</td>\n",
       "      <td>5.033750</td>\n",
       "      <td>14.766750</td>\n",
       "      <td>float64</td>\n",
       "    </tr>\n",
       "    <tr>\n",
       "      <th>44</th>\n",
       "      <td>n12</td>\n",
       "      <td>5</td>\n",
       "      <td>5.033750</td>\n",
       "      <td>94.664375</td>\n",
       "      <td>float64</td>\n",
       "    </tr>\n",
       "    <tr>\n",
       "      <th>45</th>\n",
       "      <td>n13</td>\n",
       "      <td>28</td>\n",
       "      <td>5.033750</td>\n",
       "      <td>89.516375</td>\n",
       "      <td>float64</td>\n",
       "    </tr>\n",
       "    <tr>\n",
       "      <th>32</th>\n",
       "      <td>n0</td>\n",
       "      <td>39</td>\n",
       "      <td>5.033750</td>\n",
       "      <td>72.428375</td>\n",
       "      <td>float64</td>\n",
       "    </tr>\n",
       "    <tr>\n",
       "      <th>36</th>\n",
       "      <td>n4</td>\n",
       "      <td>46</td>\n",
       "      <td>4.154875</td>\n",
       "      <td>16.816125</td>\n",
       "      <td>float64</td>\n",
       "    </tr>\n",
       "    <tr>\n",
       "      <th>42</th>\n",
       "      <td>n10</td>\n",
       "      <td>76</td>\n",
       "      <td>4.154875</td>\n",
       "      <td>8.502875</td>\n",
       "      <td>float64</td>\n",
       "    </tr>\n",
       "    <tr>\n",
       "      <th>25</th>\n",
       "      <td>revolUtil</td>\n",
       "      <td>1286</td>\n",
       "      <td>0.066375</td>\n",
       "      <td>0.521250</td>\n",
       "      <td>float64</td>\n",
       "    </tr>\n",
       "    <tr>\n",
       "      <th>23</th>\n",
       "      <td>pubRecBankruptcies</td>\n",
       "      <td>11</td>\n",
       "      <td>0.050625</td>\n",
       "      <td>87.509500</td>\n",
       "      <td>float64</td>\n",
       "    </tr>\n",
       "    <tr>\n",
       "      <th>17</th>\n",
       "      <td>dti</td>\n",
       "      <td>6321</td>\n",
       "      <td>0.029875</td>\n",
       "      <td>0.074125</td>\n",
       "      <td>float64</td>\n",
       "    </tr>\n",
       "    <tr>\n",
       "      <th>7</th>\n",
       "      <td>employmentTitle</td>\n",
       "      <td>248683</td>\n",
       "      <td>0.000125</td>\n",
       "      <td>6.393625</td>\n",
       "      <td>float64</td>\n",
       "    </tr>\n",
       "    <tr>\n",
       "      <th>30</th>\n",
       "      <td>title</td>\n",
       "      <td>39644</td>\n",
       "      <td>0.000125</td>\n",
       "      <td>49.166750</td>\n",
       "      <td>float64</td>\n",
       "    </tr>\n",
       "    <tr>\n",
       "      <th>15</th>\n",
       "      <td>postCode</td>\n",
       "      <td>932</td>\n",
       "      <td>0.000125</td>\n",
       "      <td>1.119500</td>\n",
       "      <td>float64</td>\n",
       "    </tr>\n",
       "    <tr>\n",
       "      <th>18</th>\n",
       "      <td>delinquency_2years</td>\n",
       "      <td>30</td>\n",
       "      <td>0.000000</td>\n",
       "      <td>80.714375</td>\n",
       "      <td>float64</td>\n",
       "    </tr>\n",
       "    <tr>\n",
       "      <th>14</th>\n",
       "      <td>purpose</td>\n",
       "      <td>14</td>\n",
       "      <td>0.000000</td>\n",
       "      <td>58.012000</td>\n",
       "      <td>int64</td>\n",
       "    </tr>\n",
       "    <tr>\n",
       "      <th>2</th>\n",
       "      <td>term</td>\n",
       "      <td>2</td>\n",
       "      <td>0.000000</td>\n",
       "      <td>75.862750</td>\n",
       "      <td>int64</td>\n",
       "    </tr>\n",
       "    <tr>\n",
       "      <th>3</th>\n",
       "      <td>interestRate</td>\n",
       "      <td>641</td>\n",
       "      <td>0.000000</td>\n",
       "      <td>2.818625</td>\n",
       "      <td>float64</td>\n",
       "    </tr>\n",
       "    <tr>\n",
       "      <th>4</th>\n",
       "      <td>installment</td>\n",
       "      <td>72360</td>\n",
       "      <td>0.000000</td>\n",
       "      <td>0.230375</td>\n",
       "      <td>float64</td>\n",
       "    </tr>\n",
       "    <tr>\n",
       "      <th>5</th>\n",
       "      <td>grade</td>\n",
       "      <td>7</td>\n",
       "      <td>0.000000</td>\n",
       "      <td>29.211250</td>\n",
       "      <td>object</td>\n",
       "    </tr>\n",
       "    <tr>\n",
       "      <th>6</th>\n",
       "      <td>subGrade</td>\n",
       "      <td>35</td>\n",
       "      <td>0.000000</td>\n",
       "      <td>6.345375</td>\n",
       "      <td>object</td>\n",
       "    </tr>\n",
       "    <tr>\n",
       "      <th>9</th>\n",
       "      <td>homeOwnership</td>\n",
       "      <td>6</td>\n",
       "      <td>0.000000</td>\n",
       "      <td>49.466500</td>\n",
       "      <td>int64</td>\n",
       "    </tr>\n",
       "    <tr>\n",
       "      <th>10</th>\n",
       "      <td>annualIncome</td>\n",
       "      <td>44926</td>\n",
       "      <td>0.000000</td>\n",
       "      <td>3.835250</td>\n",
       "      <td>float64</td>\n",
       "    </tr>\n",
       "    <tr>\n",
       "      <th>11</th>\n",
       "      <td>verificationStatus</td>\n",
       "      <td>3</td>\n",
       "      <td>0.000000</td>\n",
       "      <td>38.726250</td>\n",
       "      <td>int64</td>\n",
       "    </tr>\n",
       "    <tr>\n",
       "      <th>12</th>\n",
       "      <td>issueDate</td>\n",
       "      <td>139</td>\n",
       "      <td>0.000000</td>\n",
       "      <td>3.633250</td>\n",
       "      <td>object</td>\n",
       "    </tr>\n",
       "    <tr>\n",
       "      <th>13</th>\n",
       "      <td>isDefault</td>\n",
       "      <td>2</td>\n",
       "      <td>0.000000</td>\n",
       "      <td>80.048750</td>\n",
       "      <td>int64</td>\n",
       "    </tr>\n",
       "    <tr>\n",
       "      <th>16</th>\n",
       "      <td>regionCode</td>\n",
       "      <td>51</td>\n",
       "      <td>0.000000</td>\n",
       "      <td>14.615125</td>\n",
       "      <td>int64</td>\n",
       "    </tr>\n",
       "    <tr>\n",
       "      <th>19</th>\n",
       "      <td>ficoRangeLow</td>\n",
       "      <td>39</td>\n",
       "      <td>0.000000</td>\n",
       "      <td>8.996750</td>\n",
       "      <td>float64</td>\n",
       "    </tr>\n",
       "    <tr>\n",
       "      <th>31</th>\n",
       "      <td>policyCode</td>\n",
       "      <td>1</td>\n",
       "      <td>0.000000</td>\n",
       "      <td>100.000000</td>\n",
       "      <td>float64</td>\n",
       "    </tr>\n",
       "    <tr>\n",
       "      <th>29</th>\n",
       "      <td>earliesCreditLine</td>\n",
       "      <td>720</td>\n",
       "      <td>0.000000</td>\n",
       "      <td>0.695875</td>\n",
       "      <td>object</td>\n",
       "    </tr>\n",
       "    <tr>\n",
       "      <th>28</th>\n",
       "      <td>applicationType</td>\n",
       "      <td>2</td>\n",
       "      <td>0.000000</td>\n",
       "      <td>98.073250</td>\n",
       "      <td>int64</td>\n",
       "    </tr>\n",
       "    <tr>\n",
       "      <th>27</th>\n",
       "      <td>initialListStatus</td>\n",
       "      <td>2</td>\n",
       "      <td>0.000000</td>\n",
       "      <td>58.304750</td>\n",
       "      <td>int64</td>\n",
       "    </tr>\n",
       "    <tr>\n",
       "      <th>26</th>\n",
       "      <td>totalAcc</td>\n",
       "      <td>134</td>\n",
       "      <td>0.000000</td>\n",
       "      <td>3.619500</td>\n",
       "      <td>float64</td>\n",
       "    </tr>\n",
       "    <tr>\n",
       "      <th>24</th>\n",
       "      <td>revolBal</td>\n",
       "      <td>71116</td>\n",
       "      <td>0.000000</td>\n",
       "      <td>0.493125</td>\n",
       "      <td>float64</td>\n",
       "    </tr>\n",
       "    <tr>\n",
       "      <th>1</th>\n",
       "      <td>loanAmnt</td>\n",
       "      <td>1540</td>\n",
       "      <td>0.000000</td>\n",
       "      <td>7.383500</td>\n",
       "      <td>float64</td>\n",
       "    </tr>\n",
       "    <tr>\n",
       "      <th>22</th>\n",
       "      <td>pubRec</td>\n",
       "      <td>32</td>\n",
       "      <td>0.000000</td>\n",
       "      <td>83.095625</td>\n",
       "      <td>float64</td>\n",
       "    </tr>\n",
       "    <tr>\n",
       "      <th>21</th>\n",
       "      <td>openAcc</td>\n",
       "      <td>75</td>\n",
       "      <td>0.000000</td>\n",
       "      <td>8.858125</td>\n",
       "      <td>float64</td>\n",
       "    </tr>\n",
       "    <tr>\n",
       "      <th>20</th>\n",
       "      <td>ficoRangeHigh</td>\n",
       "      <td>39</td>\n",
       "      <td>0.000000</td>\n",
       "      <td>8.996750</td>\n",
       "      <td>float64</td>\n",
       "    </tr>\n",
       "    <tr>\n",
       "      <th>0</th>\n",
       "      <td>id</td>\n",
       "      <td>800000</td>\n",
       "      <td>0.000000</td>\n",
       "      <td>0.000125</td>\n",
       "      <td>int64</td>\n",
       "    </tr>\n",
       "  </tbody>\n",
       "</table>\n",
       "</div>"
      ],
      "text/plain": [
       "               Feature  Unique_values  Percentage_of_missing_values  \\\n",
       "43                 n11              5                      8.719000   \n",
       "8     employmentLength             11                      5.849875   \n",
       "40                  n8            102                      5.033875   \n",
       "39                  n7             70                      5.033750   \n",
       "33                  n1             33                      5.033750   \n",
       "34                  n2             50                      5.033750   \n",
       "35                n2.1             50                      5.033750   \n",
       "37                  n5             65                      5.033750   \n",
       "38                  n6            107                      5.033750   \n",
       "46                 n14             31                      5.033750   \n",
       "41                  n9             44                      5.033750   \n",
       "44                 n12              5                      5.033750   \n",
       "45                 n13             28                      5.033750   \n",
       "32                  n0             39                      5.033750   \n",
       "36                  n4             46                      4.154875   \n",
       "42                 n10             76                      4.154875   \n",
       "25           revolUtil           1286                      0.066375   \n",
       "23  pubRecBankruptcies             11                      0.050625   \n",
       "17                 dti           6321                      0.029875   \n",
       "7      employmentTitle         248683                      0.000125   \n",
       "30               title          39644                      0.000125   \n",
       "15            postCode            932                      0.000125   \n",
       "18  delinquency_2years             30                      0.000000   \n",
       "14             purpose             14                      0.000000   \n",
       "2                 term              2                      0.000000   \n",
       "3         interestRate            641                      0.000000   \n",
       "4          installment          72360                      0.000000   \n",
       "5                grade              7                      0.000000   \n",
       "6             subGrade             35                      0.000000   \n",
       "9        homeOwnership              6                      0.000000   \n",
       "10        annualIncome          44926                      0.000000   \n",
       "11  verificationStatus              3                      0.000000   \n",
       "12           issueDate            139                      0.000000   \n",
       "13           isDefault              2                      0.000000   \n",
       "16          regionCode             51                      0.000000   \n",
       "19        ficoRangeLow             39                      0.000000   \n",
       "31          policyCode              1                      0.000000   \n",
       "29   earliesCreditLine            720                      0.000000   \n",
       "28     applicationType              2                      0.000000   \n",
       "27   initialListStatus              2                      0.000000   \n",
       "26            totalAcc            134                      0.000000   \n",
       "24            revolBal          71116                      0.000000   \n",
       "1             loanAmnt           1540                      0.000000   \n",
       "22              pubRec             32                      0.000000   \n",
       "21             openAcc             75                      0.000000   \n",
       "20       ficoRangeHigh             39                      0.000000   \n",
       "0                   id         800000                      0.000000   \n",
       "\n",
       "    Percentage_of_values_in_the_biggest category     type  \n",
       "43                                     91.210250  float64  \n",
       "8                                      32.844125   object  \n",
       "40                                      5.601000  float64  \n",
       "39                                     10.416375  float64  \n",
       "33                                     20.376000  float64  \n",
       "34                                     14.651375  float64  \n",
       "35                                     14.651375  float64  \n",
       "37                                      9.572000  float64  \n",
       "38                                      8.086500  float64  \n",
       "46                                     23.437625  float64  \n",
       "41                                     14.766750  float64  \n",
       "44                                     94.664375  float64  \n",
       "45                                     89.516375  float64  \n",
       "32                                     72.428375  float64  \n",
       "36                                     16.816125  float64  \n",
       "42                                      8.502875  float64  \n",
       "25                                      0.521250  float64  \n",
       "23                                     87.509500  float64  \n",
       "17                                      0.074125  float64  \n",
       "7                                       6.393625  float64  \n",
       "30                                     49.166750  float64  \n",
       "15                                      1.119500  float64  \n",
       "18                                     80.714375  float64  \n",
       "14                                     58.012000    int64  \n",
       "2                                      75.862750    int64  \n",
       "3                                       2.818625  float64  \n",
       "4                                       0.230375  float64  \n",
       "5                                      29.211250   object  \n",
       "6                                       6.345375   object  \n",
       "9                                      49.466500    int64  \n",
       "10                                      3.835250  float64  \n",
       "11                                     38.726250    int64  \n",
       "12                                      3.633250   object  \n",
       "13                                     80.048750    int64  \n",
       "16                                     14.615125    int64  \n",
       "19                                      8.996750  float64  \n",
       "31                                    100.000000  float64  \n",
       "29                                      0.695875   object  \n",
       "28                                     98.073250    int64  \n",
       "27                                     58.304750    int64  \n",
       "26                                      3.619500  float64  \n",
       "24                                      0.493125  float64  \n",
       "1                                       7.383500  float64  \n",
       "22                                     83.095625  float64  \n",
       "21                                      8.858125  float64  \n",
       "20                                      8.996750  float64  \n",
       "0                                       0.000125    int64  "
      ]
     },
     "execution_count": 5,
     "metadata": {},
     "output_type": "execute_result"
    }
   ],
   "source": [
    "statics(train)"
   ]
  },
  {
   "cell_type": "code",
   "execution_count": 6,
   "metadata": {},
   "outputs": [
    {
     "data": {
      "text/plain": [
       "(200000, 48)"
      ]
     },
     "execution_count": 6,
     "metadata": {},
     "output_type": "execute_result"
    }
   ],
   "source": [
    "test.shape"
   ]
  },
  {
   "cell_type": "code",
   "execution_count": 7,
   "metadata": {},
   "outputs": [
    {
     "data": {
      "text/html": [
       "<div>\n",
       "<style scoped>\n",
       "    .dataframe tbody tr th:only-of-type {\n",
       "        vertical-align: middle;\n",
       "    }\n",
       "\n",
       "    .dataframe tbody tr th {\n",
       "        vertical-align: top;\n",
       "    }\n",
       "\n",
       "    .dataframe thead th {\n",
       "        text-align: right;\n",
       "    }\n",
       "</style>\n",
       "<table border=\"1\" class=\"dataframe\">\n",
       "  <thead>\n",
       "    <tr style=\"text-align: right;\">\n",
       "      <th></th>\n",
       "      <th>id</th>\n",
       "      <th>loanAmnt</th>\n",
       "      <th>term</th>\n",
       "      <th>interestRate</th>\n",
       "      <th>installment</th>\n",
       "      <th>grade</th>\n",
       "      <th>subGrade</th>\n",
       "      <th>employmentTitle</th>\n",
       "      <th>employmentLength</th>\n",
       "      <th>homeOwnership</th>\n",
       "      <th>annualIncome</th>\n",
       "      <th>verificationStatus</th>\n",
       "      <th>issueDate</th>\n",
       "      <th>purpose</th>\n",
       "      <th>postCode</th>\n",
       "      <th>regionCode</th>\n",
       "      <th>dti</th>\n",
       "      <th>delinquency_2years</th>\n",
       "      <th>ficoRangeLow</th>\n",
       "      <th>ficoRangeHigh</th>\n",
       "      <th>openAcc</th>\n",
       "      <th>pubRec</th>\n",
       "      <th>pubRecBankruptcies</th>\n",
       "      <th>revolBal</th>\n",
       "      <th>revolUtil</th>\n",
       "      <th>totalAcc</th>\n",
       "      <th>initialListStatus</th>\n",
       "      <th>applicationType</th>\n",
       "      <th>earliesCreditLine</th>\n",
       "      <th>title</th>\n",
       "      <th>policyCode</th>\n",
       "      <th>n0</th>\n",
       "      <th>n1</th>\n",
       "      <th>n2</th>\n",
       "      <th>n2.1</th>\n",
       "      <th>n2.2</th>\n",
       "      <th>n2.3</th>\n",
       "      <th>n4</th>\n",
       "      <th>n5</th>\n",
       "      <th>n6</th>\n",
       "      <th>n7</th>\n",
       "      <th>n8</th>\n",
       "      <th>n9</th>\n",
       "      <th>n10</th>\n",
       "      <th>n11</th>\n",
       "      <th>n12</th>\n",
       "      <th>n13</th>\n",
       "      <th>n14</th>\n",
       "    </tr>\n",
       "  </thead>\n",
       "  <tbody>\n",
       "    <tr>\n",
       "      <th>0</th>\n",
       "      <td>800000</td>\n",
       "      <td>14000.0</td>\n",
       "      <td>3</td>\n",
       "      <td>10.99</td>\n",
       "      <td>458.28</td>\n",
       "      <td>B</td>\n",
       "      <td>B3</td>\n",
       "      <td>7027.0</td>\n",
       "      <td>10+ years</td>\n",
       "      <td>0</td>\n",
       "      <td>80000.0</td>\n",
       "      <td>0</td>\n",
       "      <td>2014-07-01</td>\n",
       "      <td>0</td>\n",
       "      <td>163.0</td>\n",
       "      <td>21</td>\n",
       "      <td>10.56</td>\n",
       "      <td>1.0</td>\n",
       "      <td>715.0</td>\n",
       "      <td>719.0</td>\n",
       "      <td>17.0</td>\n",
       "      <td>0.0</td>\n",
       "      <td>0.0</td>\n",
       "      <td>9846.0</td>\n",
       "      <td>30.7</td>\n",
       "      <td>29.0</td>\n",
       "      <td>0</td>\n",
       "      <td>0</td>\n",
       "      <td>Nov-1974</td>\n",
       "      <td>0.0</td>\n",
       "      <td>1.0</td>\n",
       "      <td>1.0</td>\n",
       "      <td>4.0</td>\n",
       "      <td>6.0</td>\n",
       "      <td>6.0</td>\n",
       "      <td>6.0</td>\n",
       "      <td>6.0</td>\n",
       "      <td>6.0</td>\n",
       "      <td>8.0</td>\n",
       "      <td>4.0</td>\n",
       "      <td>15.0</td>\n",
       "      <td>19.0</td>\n",
       "      <td>6.0</td>\n",
       "      <td>17.0</td>\n",
       "      <td>0.0</td>\n",
       "      <td>0.0</td>\n",
       "      <td>1.0</td>\n",
       "      <td>3.0</td>\n",
       "    </tr>\n",
       "    <tr>\n",
       "      <th>1</th>\n",
       "      <td>800001</td>\n",
       "      <td>20000.0</td>\n",
       "      <td>5</td>\n",
       "      <td>14.65</td>\n",
       "      <td>472.14</td>\n",
       "      <td>C</td>\n",
       "      <td>C5</td>\n",
       "      <td>60426.0</td>\n",
       "      <td>10+ years</td>\n",
       "      <td>0</td>\n",
       "      <td>50000.0</td>\n",
       "      <td>0</td>\n",
       "      <td>2015-07-01</td>\n",
       "      <td>2</td>\n",
       "      <td>235.0</td>\n",
       "      <td>8</td>\n",
       "      <td>21.40</td>\n",
       "      <td>2.0</td>\n",
       "      <td>670.0</td>\n",
       "      <td>674.0</td>\n",
       "      <td>5.0</td>\n",
       "      <td>0.0</td>\n",
       "      <td>0.0</td>\n",
       "      <td>8946.0</td>\n",
       "      <td>56.6</td>\n",
       "      <td>14.0</td>\n",
       "      <td>0</td>\n",
       "      <td>0</td>\n",
       "      <td>Jul-2001</td>\n",
       "      <td>5.0</td>\n",
       "      <td>1.0</td>\n",
       "      <td>2.0</td>\n",
       "      <td>1.0</td>\n",
       "      <td>3.0</td>\n",
       "      <td>3.0</td>\n",
       "      <td>3.0</td>\n",
       "      <td>3.0</td>\n",
       "      <td>1.0</td>\n",
       "      <td>1.0</td>\n",
       "      <td>3.0</td>\n",
       "      <td>3.0</td>\n",
       "      <td>9.0</td>\n",
       "      <td>3.0</td>\n",
       "      <td>5.0</td>\n",
       "      <td>0.0</td>\n",
       "      <td>0.0</td>\n",
       "      <td>2.0</td>\n",
       "      <td>2.0</td>\n",
       "    </tr>\n",
       "    <tr>\n",
       "      <th>2</th>\n",
       "      <td>800002</td>\n",
       "      <td>12000.0</td>\n",
       "      <td>3</td>\n",
       "      <td>19.99</td>\n",
       "      <td>445.91</td>\n",
       "      <td>D</td>\n",
       "      <td>D4</td>\n",
       "      <td>23547.0</td>\n",
       "      <td>2 years</td>\n",
       "      <td>1</td>\n",
       "      <td>60000.0</td>\n",
       "      <td>2</td>\n",
       "      <td>2016-10-01</td>\n",
       "      <td>0</td>\n",
       "      <td>526.0</td>\n",
       "      <td>20</td>\n",
       "      <td>33.50</td>\n",
       "      <td>0.0</td>\n",
       "      <td>710.0</td>\n",
       "      <td>714.0</td>\n",
       "      <td>12.0</td>\n",
       "      <td>0.0</td>\n",
       "      <td>0.0</td>\n",
       "      <td>970.0</td>\n",
       "      <td>17.6</td>\n",
       "      <td>43.0</td>\n",
       "      <td>1</td>\n",
       "      <td>0</td>\n",
       "      <td>Aug-2006</td>\n",
       "      <td>0.0</td>\n",
       "      <td>1.0</td>\n",
       "      <td>0.0</td>\n",
       "      <td>1.0</td>\n",
       "      <td>4.0</td>\n",
       "      <td>4.0</td>\n",
       "      <td>4.0</td>\n",
       "      <td>4.0</td>\n",
       "      <td>1.0</td>\n",
       "      <td>1.0</td>\n",
       "      <td>36.0</td>\n",
       "      <td>5.0</td>\n",
       "      <td>6.0</td>\n",
       "      <td>4.0</td>\n",
       "      <td>12.0</td>\n",
       "      <td>0.0</td>\n",
       "      <td>0.0</td>\n",
       "      <td>0.0</td>\n",
       "      <td>7.0</td>\n",
       "    </tr>\n",
       "    <tr>\n",
       "      <th>3</th>\n",
       "      <td>800003</td>\n",
       "      <td>17500.0</td>\n",
       "      <td>5</td>\n",
       "      <td>14.31</td>\n",
       "      <td>410.02</td>\n",
       "      <td>C</td>\n",
       "      <td>C4</td>\n",
       "      <td>636.0</td>\n",
       "      <td>4 years</td>\n",
       "      <td>0</td>\n",
       "      <td>37000.0</td>\n",
       "      <td>1</td>\n",
       "      <td>2014-11-01</td>\n",
       "      <td>4</td>\n",
       "      <td>248.0</td>\n",
       "      <td>11</td>\n",
       "      <td>13.95</td>\n",
       "      <td>0.0</td>\n",
       "      <td>685.0</td>\n",
       "      <td>689.0</td>\n",
       "      <td>10.0</td>\n",
       "      <td>1.0</td>\n",
       "      <td>1.0</td>\n",
       "      <td>10249.0</td>\n",
       "      <td>52.3</td>\n",
       "      <td>18.0</td>\n",
       "      <td>0</td>\n",
       "      <td>0</td>\n",
       "      <td>Jul-2002</td>\n",
       "      <td>4.0</td>\n",
       "      <td>1.0</td>\n",
       "      <td>0.0</td>\n",
       "      <td>2.0</td>\n",
       "      <td>2.0</td>\n",
       "      <td>2.0</td>\n",
       "      <td>2.0</td>\n",
       "      <td>2.0</td>\n",
       "      <td>4.0</td>\n",
       "      <td>7.0</td>\n",
       "      <td>2.0</td>\n",
       "      <td>8.0</td>\n",
       "      <td>14.0</td>\n",
       "      <td>2.0</td>\n",
       "      <td>10.0</td>\n",
       "      <td>0.0</td>\n",
       "      <td>0.0</td>\n",
       "      <td>0.0</td>\n",
       "      <td>3.0</td>\n",
       "    </tr>\n",
       "    <tr>\n",
       "      <th>4</th>\n",
       "      <td>800004</td>\n",
       "      <td>35000.0</td>\n",
       "      <td>3</td>\n",
       "      <td>17.09</td>\n",
       "      <td>1249.42</td>\n",
       "      <td>D</td>\n",
       "      <td>D1</td>\n",
       "      <td>368446.0</td>\n",
       "      <td>&lt; 1 year</td>\n",
       "      <td>1</td>\n",
       "      <td>80000.0</td>\n",
       "      <td>1</td>\n",
       "      <td>2017-10-01</td>\n",
       "      <td>0</td>\n",
       "      <td>115.0</td>\n",
       "      <td>8</td>\n",
       "      <td>24.97</td>\n",
       "      <td>0.0</td>\n",
       "      <td>685.0</td>\n",
       "      <td>689.0</td>\n",
       "      <td>19.0</td>\n",
       "      <td>0.0</td>\n",
       "      <td>0.0</td>\n",
       "      <td>33199.0</td>\n",
       "      <td>35.6</td>\n",
       "      <td>22.0</td>\n",
       "      <td>0</td>\n",
       "      <td>0</td>\n",
       "      <td>Dec-2000</td>\n",
       "      <td>0.0</td>\n",
       "      <td>1.0</td>\n",
       "      <td>0.0</td>\n",
       "      <td>8.0</td>\n",
       "      <td>11.0</td>\n",
       "      <td>11.0</td>\n",
       "      <td>11.0</td>\n",
       "      <td>11.0</td>\n",
       "      <td>9.0</td>\n",
       "      <td>11.0</td>\n",
       "      <td>3.0</td>\n",
       "      <td>16.0</td>\n",
       "      <td>18.0</td>\n",
       "      <td>11.0</td>\n",
       "      <td>19.0</td>\n",
       "      <td>0.0</td>\n",
       "      <td>0.0</td>\n",
       "      <td>0.0</td>\n",
       "      <td>1.0</td>\n",
       "    </tr>\n",
       "  </tbody>\n",
       "</table>\n",
       "</div>"
      ],
      "text/plain": [
       "       id  loanAmnt  term  interestRate  installment grade subGrade  \\\n",
       "0  800000   14000.0     3         10.99       458.28     B       B3   \n",
       "1  800001   20000.0     5         14.65       472.14     C       C5   \n",
       "2  800002   12000.0     3         19.99       445.91     D       D4   \n",
       "3  800003   17500.0     5         14.31       410.02     C       C4   \n",
       "4  800004   35000.0     3         17.09      1249.42     D       D1   \n",
       "\n",
       "   employmentTitle employmentLength  homeOwnership  annualIncome  \\\n",
       "0           7027.0        10+ years              0       80000.0   \n",
       "1          60426.0        10+ years              0       50000.0   \n",
       "2          23547.0          2 years              1       60000.0   \n",
       "3            636.0          4 years              0       37000.0   \n",
       "4         368446.0         < 1 year              1       80000.0   \n",
       "\n",
       "   verificationStatus   issueDate  purpose  postCode  regionCode    dti  \\\n",
       "0                   0  2014-07-01        0     163.0          21  10.56   \n",
       "1                   0  2015-07-01        2     235.0           8  21.40   \n",
       "2                   2  2016-10-01        0     526.0          20  33.50   \n",
       "3                   1  2014-11-01        4     248.0          11  13.95   \n",
       "4                   1  2017-10-01        0     115.0           8  24.97   \n",
       "\n",
       "   delinquency_2years  ficoRangeLow  ficoRangeHigh  openAcc  pubRec  \\\n",
       "0                 1.0         715.0          719.0     17.0     0.0   \n",
       "1                 2.0         670.0          674.0      5.0     0.0   \n",
       "2                 0.0         710.0          714.0     12.0     0.0   \n",
       "3                 0.0         685.0          689.0     10.0     1.0   \n",
       "4                 0.0         685.0          689.0     19.0     0.0   \n",
       "\n",
       "   pubRecBankruptcies  revolBal  revolUtil  totalAcc  initialListStatus  \\\n",
       "0                 0.0    9846.0       30.7      29.0                  0   \n",
       "1                 0.0    8946.0       56.6      14.0                  0   \n",
       "2                 0.0     970.0       17.6      43.0                  1   \n",
       "3                 1.0   10249.0       52.3      18.0                  0   \n",
       "4                 0.0   33199.0       35.6      22.0                  0   \n",
       "\n",
       "   applicationType earliesCreditLine  title  policyCode   n0   n1    n2  n2.1  \\\n",
       "0                0          Nov-1974    0.0         1.0  1.0  4.0   6.0   6.0   \n",
       "1                0          Jul-2001    5.0         1.0  2.0  1.0   3.0   3.0   \n",
       "2                0          Aug-2006    0.0         1.0  0.0  1.0   4.0   4.0   \n",
       "3                0          Jul-2002    4.0         1.0  0.0  2.0   2.0   2.0   \n",
       "4                0          Dec-2000    0.0         1.0  0.0  8.0  11.0  11.0   \n",
       "\n",
       "   n2.2  n2.3   n4    n5    n6    n7    n8    n9   n10  n11  n12  n13  n14  \n",
       "0   6.0   6.0  6.0   8.0   4.0  15.0  19.0   6.0  17.0  0.0  0.0  1.0  3.0  \n",
       "1   3.0   3.0  1.0   1.0   3.0   3.0   9.0   3.0   5.0  0.0  0.0  2.0  2.0  \n",
       "2   4.0   4.0  1.0   1.0  36.0   5.0   6.0   4.0  12.0  0.0  0.0  0.0  7.0  \n",
       "3   2.0   2.0  4.0   7.0   2.0   8.0  14.0   2.0  10.0  0.0  0.0  0.0  3.0  \n",
       "4  11.0  11.0  9.0  11.0   3.0  16.0  18.0  11.0  19.0  0.0  0.0  0.0  1.0  "
      ]
     },
     "execution_count": 7,
     "metadata": {},
     "output_type": "execute_result"
    }
   ],
   "source": [
    "test.head()"
   ]
  },
  {
   "cell_type": "code",
   "execution_count": 34,
   "metadata": {},
   "outputs": [
    {
     "data": {
      "text/plain": [
       "0    640390\n",
       "1    159610\n",
       "Name: isDefault, dtype: int64"
      ]
     },
     "execution_count": 34,
     "metadata": {},
     "output_type": "execute_result"
    }
   ],
   "source": [
    "train['isDefault'].value_counts()"
   ]
  },
  {
   "cell_type": "code",
   "execution_count": 35,
   "metadata": {},
   "outputs": [
    {
     "data": {
      "text/plain": [
       "['grade', 'subGrade', 'employmentLength', 'issueDate', 'earliesCreditLine']"
      ]
     },
     "execution_count": 35,
     "metadata": {},
     "output_type": "execute_result"
    }
   ],
   "source": [
    "train.select_dtypes(include=['object', 'category']).columns.values.tolist()"
   ]
  },
  {
   "cell_type": "code",
   "execution_count": 36,
   "metadata": {},
   "outputs": [],
   "source": [
    "data = pd.concat([train, test], axis=0).reset_index(drop=True)"
   ]
  },
  {
   "cell_type": "code",
   "execution_count": 37,
   "metadata": {},
   "outputs": [
    {
     "data": {
      "text/plain": [
       "(1000000, 49)"
      ]
     },
     "execution_count": 37,
     "metadata": {},
     "output_type": "execute_result"
    }
   ],
   "source": [
    "data.shape"
   ]
  },
  {
   "cell_type": "code",
   "execution_count": null,
   "metadata": {},
   "outputs": [],
   "source": []
  },
  {
   "cell_type": "markdown",
   "metadata": {},
   "source": [
    "## 2 数据处理"
   ]
  },
  {
   "cell_type": "code",
   "execution_count": 38,
   "metadata": {},
   "outputs": [],
   "source": [
    "numerical_fea = list(data.select_dtypes(exclude=['object']).columns)\n",
    "category_fea = list(filter(lambda x: x not in numerical_fea,list(data.columns)))\n",
    "label = 'isDefault'\n",
    "numerical_fea.remove(label)\n"
   ]
  },
  {
   "cell_type": "code",
   "execution_count": 39,
   "metadata": {
    "scrolled": true
   },
   "outputs": [
    {
     "data": {
      "text/plain": [
       "'id,loanAmnt,term,interestRate,installment,employmentTitle,homeOwnership,annualIncome,verificationStatus,purpose,postCode,regionCode,dti,delinquency_2years,ficoRangeLow,ficoRangeHigh,openAcc,pubRec,pubRecBankruptcies,revolBal,revolUtil,totalAcc,initialListStatus,applicationType,title,policyCode,n0,n1,n2,n2.1,n4,n5,n6,n7,n8,n9,n10,n11,n12,n13,n14,n2.2,n2.3'"
      ]
     },
     "execution_count": 39,
     "metadata": {},
     "output_type": "execute_result"
    }
   ],
   "source": [
    "# 数值特征\n",
    "','.join(numerical_fea)"
   ]
  },
  {
   "cell_type": "code",
   "execution_count": 40,
   "metadata": {},
   "outputs": [
    {
     "data": {
      "text/plain": [
       "['grade', 'subGrade', 'employmentLength', 'issueDate', 'earliesCreditLine']"
      ]
     },
     "execution_count": 40,
     "metadata": {},
     "output_type": "execute_result"
    }
   ],
   "source": [
    "# object 特征\n",
    "category_fea"
   ]
  },
  {
   "cell_type": "markdown",
   "metadata": {},
   "source": [
    "### 2.1 缺失值填充"
   ]
  },
  {
   "cell_type": "code",
   "execution_count": 41,
   "metadata": {},
   "outputs": [
    {
     "data": {
      "text/plain": [
       "id                         0\n",
       "loanAmnt                   0\n",
       "term                       0\n",
       "interestRate               0\n",
       "installment                0\n",
       "grade                      0\n",
       "subGrade                   0\n",
       "employmentTitle            1\n",
       "employmentLength       58541\n",
       "homeOwnership              0\n",
       "annualIncome               0\n",
       "verificationStatus         0\n",
       "issueDate                  0\n",
       "isDefault             200000\n",
       "purpose                    0\n",
       "postCode                   1\n",
       "regionCode                 0\n",
       "dti                      300\n",
       "delinquency_2years         0\n",
       "ficoRangeLow               0\n",
       "ficoRangeHigh              0\n",
       "openAcc                    0\n",
       "pubRec                     0\n",
       "pubRecBankruptcies       521\n",
       "revolBal                   0\n",
       "revolUtil                658\n",
       "totalAcc                   0\n",
       "initialListStatus          0\n",
       "applicationType            0\n",
       "earliesCreditLine          0\n",
       "title                      1\n",
       "policyCode                 0\n",
       "n0                     50381\n",
       "n1                     50381\n",
       "n2                     50381\n",
       "n2.1                   50381\n",
       "n4                     41633\n",
       "n5                     50381\n",
       "n6                     50381\n",
       "n7                     50381\n",
       "n8                     50382\n",
       "n9                     50381\n",
       "n10                    41633\n",
       "n11                    87327\n",
       "n12                    50381\n",
       "n13                    50381\n",
       "n14                    50381\n",
       "n2.2                  810111\n",
       "n2.3                  810111\n",
       "dtype: int64"
      ]
     },
     "execution_count": 41,
     "metadata": {},
     "output_type": "execute_result"
    }
   ],
   "source": [
    "data.isnull().sum()"
   ]
  },
  {
   "cell_type": "code",
   "execution_count": 42,
   "metadata": {},
   "outputs": [],
   "source": [
    "#按照平均数填充数值型特征\n",
    "data[numerical_fea] = data[numerical_fea].fillna(data[numerical_fea].median())"
   ]
  },
  {
   "cell_type": "code",
   "execution_count": 43,
   "metadata": {},
   "outputs": [
    {
     "data": {
      "text/html": [
       "<div>\n",
       "<style scoped>\n",
       "    .dataframe tbody tr th:only-of-type {\n",
       "        vertical-align: middle;\n",
       "    }\n",
       "\n",
       "    .dataframe tbody tr th {\n",
       "        vertical-align: top;\n",
       "    }\n",
       "\n",
       "    .dataframe thead th {\n",
       "        text-align: right;\n",
       "    }\n",
       "</style>\n",
       "<table border=\"1\" class=\"dataframe\">\n",
       "  <thead>\n",
       "    <tr style=\"text-align: right;\">\n",
       "      <th></th>\n",
       "      <th>grade</th>\n",
       "      <th>subGrade</th>\n",
       "      <th>employmentLength</th>\n",
       "      <th>issueDate</th>\n",
       "      <th>earliesCreditLine</th>\n",
       "    </tr>\n",
       "  </thead>\n",
       "  <tbody>\n",
       "    <tr>\n",
       "      <th>0</th>\n",
       "      <td>B</td>\n",
       "      <td>C1</td>\n",
       "      <td>10+ years</td>\n",
       "      <td>2016-03-01</td>\n",
       "      <td>Aug-2001</td>\n",
       "    </tr>\n",
       "  </tbody>\n",
       "</table>\n",
       "</div>"
      ],
      "text/plain": [
       "  grade subGrade employmentLength   issueDate earliesCreditLine\n",
       "0     B       C1        10+ years  2016-03-01          Aug-2001"
      ]
     },
     "execution_count": 43,
     "metadata": {},
     "output_type": "execute_result"
    }
   ],
   "source": [
    "data[category_fea].mode()"
   ]
  },
  {
   "cell_type": "code",
   "execution_count": 44,
   "metadata": {},
   "outputs": [
    {
     "data": {
      "text/plain": [
       "['grade', 'subGrade', 'employmentLength', 'issueDate', 'earliesCreditLine']"
      ]
     },
     "execution_count": 44,
     "metadata": {},
     "output_type": "execute_result"
    }
   ],
   "source": [
    "category_fea"
   ]
  },
  {
   "cell_type": "code",
   "execution_count": 45,
   "metadata": {},
   "outputs": [],
   "source": [
    "#按照众数填充类别型特征\n",
    "data[category_fea] = data[category_fea].fillna(data[category_fea].mode())"
   ]
  },
  {
   "cell_type": "code",
   "execution_count": 46,
   "metadata": {},
   "outputs": [],
   "source": [
    "data['employmentLength']=data['employmentLength'].fillna(data['employmentLength'].mode()[0])"
   ]
  },
  {
   "cell_type": "code",
   "execution_count": 47,
   "metadata": {},
   "outputs": [
    {
     "data": {
      "text/plain": [
       "10+ years    387066\n",
       "2 years       90565\n",
       "< 1 year      80226\n",
       "3 years       80163\n",
       "1 year        65671\n",
       "5 years       62645\n",
       "4 years       59818\n",
       "6 years       46582\n",
       "8 years       45168\n",
       "7 years       44230\n",
       "9 years       37866\n",
       "Name: employmentLength, dtype: int64"
      ]
     },
     "execution_count": 47,
     "metadata": {},
     "output_type": "execute_result"
    }
   ],
   "source": [
    "data['employmentLength'].value_counts()"
   ]
  },
  {
   "cell_type": "code",
   "execution_count": 48,
   "metadata": {},
   "outputs": [
    {
     "data": {
      "text/plain": [
       "id                         0\n",
       "loanAmnt                   0\n",
       "term                       0\n",
       "interestRate               0\n",
       "installment                0\n",
       "grade                      0\n",
       "subGrade                   0\n",
       "employmentTitle            0\n",
       "employmentLength           0\n",
       "homeOwnership              0\n",
       "annualIncome               0\n",
       "verificationStatus         0\n",
       "issueDate                  0\n",
       "isDefault             200000\n",
       "purpose                    0\n",
       "postCode                   0\n",
       "regionCode                 0\n",
       "dti                        0\n",
       "delinquency_2years         0\n",
       "ficoRangeLow               0\n",
       "ficoRangeHigh              0\n",
       "openAcc                    0\n",
       "pubRec                     0\n",
       "pubRecBankruptcies         0\n",
       "revolBal                   0\n",
       "revolUtil                  0\n",
       "totalAcc                   0\n",
       "initialListStatus          0\n",
       "applicationType            0\n",
       "earliesCreditLine          0\n",
       "title                      0\n",
       "policyCode                 0\n",
       "n0                         0\n",
       "n1                         0\n",
       "n2                         0\n",
       "n2.1                       0\n",
       "n4                         0\n",
       "n5                         0\n",
       "n6                         0\n",
       "n7                         0\n",
       "n8                         0\n",
       "n9                         0\n",
       "n10                        0\n",
       "n11                        0\n",
       "n12                        0\n",
       "n13                        0\n",
       "n14                        0\n",
       "n2.2                       0\n",
       "n2.3                       0\n",
       "dtype: int64"
      ]
     },
     "execution_count": 48,
     "metadata": {},
     "output_type": "execute_result"
    }
   ],
   "source": [
    "data.isnull().sum()"
   ]
  },
  {
   "cell_type": "markdown",
   "metadata": {},
   "source": [
    "### 2.2 删除列"
   ]
  },
  {
   "cell_type": "code",
   "execution_count": 99,
   "metadata": {},
   "outputs": [
    {
     "data": {
      "text/plain": [
       "1.0    1000000\n",
       "Name: policyCode, dtype: int64"
      ]
     },
     "execution_count": 99,
     "metadata": {},
     "output_type": "execute_result"
    }
   ],
   "source": [
    "data['policyCode'].value_counts()"
   ]
  },
  {
   "cell_type": "code",
   "execution_count": 100,
   "metadata": {},
   "outputs": [],
   "source": [
    "del data['policyCode']"
   ]
  },
  {
   "cell_type": "markdown",
   "metadata": {},
   "source": [
    "## 3 特征工程"
   ]
  },
  {
   "cell_type": "markdown",
   "metadata": {},
   "source": [
    "### 3.1 时间特征提取\n",
    "- employmentLength：就业年限（年）\n",
    "- issueDate：贷款发放的月份\n",
    "- earliesCreditLine：借款人最早报告的信用额度开立的月份"
   ]
  },
  {
   "cell_type": "markdown",
   "metadata": {},
   "source": [
    "\n",
    "**employmentLength：就业年限（年）**"
   ]
  },
  {
   "cell_type": "code",
   "execution_count": 49,
   "metadata": {},
   "outputs": [
    {
     "name": "stderr",
     "output_type": "stream",
     "text": [
      "remove postfix: 100%|██████████| 1000000/1000000 [00:01<00:00, 575100.74it/s]\n"
     ]
    }
   ],
   "source": [
    "# employmentLength对象类型特征转换到数值\n",
    "def employmentLength_to_int(s):\n",
    "    if s=='10+ years':\n",
    "        return 10\n",
    "    elif s=='< 1 year':\n",
    "        return 0\n",
    "    elif pd.isnull(s):\n",
    "        return s\n",
    "    else:\n",
    "        return np.int8(s.split()[0])\n",
    "\n",
    "tqdm.pandas(desc=\"remove postfix\", postfix=None)\n",
    "data['employmentLength_years']=data['employmentLength'].progress_apply(lambda x:employmentLength_to_int(x))\n"
   ]
  },
  {
   "cell_type": "code",
   "execution_count": 51,
   "metadata": {},
   "outputs": [
    {
     "data": {
      "text/plain": [
       "10    387066\n",
       "2      90565\n",
       "0      80226\n",
       "3      80163\n",
       "1      65671\n",
       "5      62645\n",
       "4      59818\n",
       "6      46582\n",
       "8      45168\n",
       "7      44230\n",
       "9      37866\n",
       "Name: employmentLength_years, dtype: int64"
      ]
     },
     "execution_count": 51,
     "metadata": {},
     "output_type": "execute_result"
    }
   ],
   "source": [
    "data['employmentLength_years'].value_counts()"
   ]
  },
  {
   "cell_type": "markdown",
   "metadata": {},
   "source": [
    "**issueDate：贷款发放的月份**"
   ]
  },
  {
   "cell_type": "code",
   "execution_count": 60,
   "metadata": {},
   "outputs": [
    {
     "data": {
      "text/plain": [
       "(Timestamp('2007-06-01 00:00:00'), Timestamp('2018-12-01 00:00:00'))"
      ]
     },
     "execution_count": 60,
     "metadata": {},
     "output_type": "execute_result"
    }
   ],
   "source": [
    "data['issueDate'] = pd.to_datetime(data['issueDate'],format='%Y-%m-%d')\n",
    "data['issueDate'].min(),data['issueDate'].max()"
   ]
  },
  {
   "cell_type": "code",
   "execution_count": 63,
   "metadata": {},
   "outputs": [
    {
     "name": "stderr",
     "output_type": "stream",
     "text": [
      "issueDate_start_lag: 100%|██████████| 1000000/1000000 [00:18<00:00, 52644.77it/s]\n"
     ]
    }
   ],
   "source": [
    "startdate = datetime.datetime.strptime('2007-06-01', '%Y-%m-%d')  # 最小日期\n",
    "#构造时间特征\n",
    "tqdm.pandas(desc=\"issueDate_start_lag\", postfix=None)\n",
    "data['issueDate_start_lag'] = data['issueDate'].progress_apply(lambda x: x-startdate).dt.days\n",
    "data['issueDate_start_lag2year'] = data['issueDate_start_lag']/365\n",
    "\n",
    "data['issueDate_year'] = data['issueDate'].dt.year\n",
    "data['issueDate_month'] = data['issueDate'].dt.month\n",
    "data['issueDate_hour'] = data['issueDate'].dt.hour\n",
    "data['issueDate_week'] = data['issueDate'].dt.dayofweek\n",
    "data['issueDate_day'] = data['issueDate'].dt.day"
   ]
  },
  {
   "cell_type": "markdown",
   "metadata": {},
   "source": [
    "- earliesCreditLine 借款人最早报告的信用额度开立的月份"
   ]
  },
  {
   "cell_type": "code",
   "execution_count": 73,
   "metadata": {},
   "outputs": [],
   "source": [
    "# data['earliesCreditLine'].apply(lambda x:len(x.split('-')))!=2"
   ]
  },
  {
   "cell_type": "code",
   "execution_count": 85,
   "metadata": {},
   "outputs": [
    {
     "name": "stderr",
     "output_type": "stream",
     "text": [
      "earliesCreditLine: 100%|██████████| 1000000/1000000 [02:27<00:00, 6793.20it/s] \n"
     ]
    }
   ],
   "source": [
    "tqdm.pandas(desc=\"earliesCreditLine\", postfix=None)\n",
    "def ym(row):\n",
    "    x=row.earliesCreditLine\n",
    "    return x.split('-')[0],x.split('-')[1]\n",
    "data[['earliesCreditLine_month','earliesCreditLine_year']]=data.progress_apply(lambda x:ym(x),axis=1,result_type=\"expand\")"
   ]
  },
  {
   "cell_type": "code",
   "execution_count": 78,
   "metadata": {},
   "outputs": [
    {
     "data": {
      "text/plain": [
       "array(['Aug', 'May', 'Jul', 'Oct', 'Dec', 'Apr', 'Jan', 'Nov', 'Feb',\n",
       "       'Mar', 'Jun', 'Sep'], dtype=object)"
      ]
     },
     "execution_count": 78,
     "metadata": {},
     "output_type": "execute_result"
    }
   ],
   "source": [
    "# data['grade'] = data['grade'].map({'A':1,'B':2,'C':3,'D':4,'E':5,'F':6,'G':7})\n",
    "data['earliesCreditLine_month'].unique()"
   ]
  },
  {
   "cell_type": "code",
   "execution_count": 87,
   "metadata": {},
   "outputs": [
    {
     "data": {
      "text/plain": [
       "8.0     99040\n",
       "9.0     97254\n",
       "10.0    96169\n",
       "11.0    87875\n",
       "3.0     81201\n",
       "7.0     80691\n",
       "12.0    80437\n",
       "5.0     78079\n",
       "6.0     77305\n",
       "4.0     76090\n",
       "2.0     72603\n",
       "Name: earliesCreditLine_month, dtype: int64"
      ]
     },
     "execution_count": 87,
     "metadata": {},
     "output_type": "execute_result"
    }
   ],
   "source": [
    "data['earliesCreditLine_month'].value_counts()"
   ]
  },
  {
   "cell_type": "code",
   "execution_count": 88,
   "metadata": {},
   "outputs": [],
   "source": [
    "data['earliesCreditLine_year']=data['earliesCreditLine_year'].astype(int)"
   ]
  },
  {
   "cell_type": "markdown",
   "metadata": {},
   "source": [
    "### 类别特征等级编码"
   ]
  },
  {
   "cell_type": "code",
   "execution_count": 118,
   "metadata": {},
   "outputs": [],
   "source": [
    "data['earliesCreditLine_month']=data['earliesCreditLine_month'].map({'Jan':1,'Feb':2,'Mar':3,'Apr':4,\n",
    "                                                                     'May':5,'Jun':6,'Jul':7,'Aug':8,\n",
    "                                                                     'Sep':9,'Oct':10,'Nov':11,'Dec':12})"
   ]
  },
  {
   "cell_type": "code",
   "execution_count": 89,
   "metadata": {},
   "outputs": [],
   "source": [
    "data['grade'] = data['grade'].map({'A':1,'B':2,'C':3,'D':4,'E':5,'F':6,'G':7})"
   ]
  },
  {
   "cell_type": "code",
   "execution_count": 92,
   "metadata": {},
   "outputs": [
    {
     "data": {
      "text/plain": [
       "array(['E2', 'D2', 'D3', 'A4', 'C2', 'A5', 'C3', 'B4', 'B5', 'E5', 'D4',\n",
       "       'B3', 'B2', 'D1', 'E1', 'C5', 'C1', 'A2', 'A3', 'B1', 'E3', 'F1',\n",
       "       'C4', 'A1', 'D5', 'F2', 'E4', 'F3', 'G2', 'F5', 'G3', 'G1', 'F4',\n",
       "       'G4', 'G5'], dtype=object)"
      ]
     },
     "execution_count": 92,
     "metadata": {},
     "output_type": "execute_result"
    }
   ],
   "source": [
    "data['subGrade'].unique()"
   ]
  },
  {
   "cell_type": "code",
   "execution_count": 96,
   "metadata": {},
   "outputs": [
    {
     "name": "stderr",
     "output_type": "stream",
     "text": [
      "subGrade_value: 100%|██████████| 1000000/1000000 [00:01<00:00, 913197.84it/s]\n"
     ]
    },
    {
     "data": {
      "text/plain": [
       "1    214283\n",
       "4    198554\n",
       "2    197742\n",
       "5    196024\n",
       "3    193397\n",
       "Name: subGrade_value, dtype: int64"
      ]
     },
     "execution_count": 96,
     "metadata": {},
     "output_type": "execute_result"
    }
   ],
   "source": [
    "tqdm.pandas(desc=\"subGrade_value\", postfix=None)\n",
    "data['subGrade_value']=data['subGrade'].progress_apply(lambda x:int(x[1]))\n",
    "data['subGrade_value'].value_counts()"
   ]
  },
  {
   "cell_type": "code",
   "execution_count": 98,
   "metadata": {},
   "outputs": [],
   "source": [
    "for  fea in ['subGrade', 'employmentLength', 'issueDate', 'earliesCreditLine']:\n",
    "    lb=LabelEncoder()\n",
    "    data[fea]=lb.fit_transform(data[fea])"
   ]
  },
  {
   "cell_type": "markdown",
   "metadata": {},
   "source": [
    "### 长尾分布特征处理"
   ]
  },
  {
   "cell_type": "code",
   "execution_count": 105,
   "metadata": {},
   "outputs": [
    {
     "data": {
      "text/plain": [
       "44"
      ]
     },
     "execution_count": 105,
     "metadata": {},
     "output_type": "execute_result"
    }
   ],
   "source": [
    "cat_list = [i for i in train.columns if i not in ['id','isDefault','policyCode']]\n",
    "len(cat_list)"
   ]
  },
  {
   "cell_type": "code",
   "execution_count": 106,
   "metadata": {},
   "outputs": [
    {
     "name": "stderr",
     "output_type": "stream",
     "text": [
      "100%|██████████| 44/44 [00:09<00:00,  4.78it/s]\n"
     ]
    }
   ],
   "source": [
    "for i in tqdm(cat_list):\n",
    "    if data[i].nunique() > 3:\n",
    "        data['{}_count'.format(i)] = data.groupby(['{}'.format(i)])['id'].transform('count')"
   ]
  },
  {
   "cell_type": "markdown",
   "metadata": {},
   "source": [
    "### 分箱特征"
   ]
  },
  {
   "cell_type": "markdown",
   "metadata": {},
   "source": [
    "量化特征：['loanAmnt','interestRate','installment','annualIncome','dti','ficoRangeLow','ficoRangeHigh','openAcc','revolBal','revolUtil','totalAcc']"
   ]
  },
  {
   "cell_type": "code",
   "execution_count": 113,
   "metadata": {},
   "outputs": [
    {
     "name": "stderr",
     "output_type": "stream",
     "text": [
      "100%|██████████| 11/11 [00:01<00:00,  6.61it/s]\n"
     ]
    }
   ],
   "source": [
    "amount_feas=['loanAmnt','interestRate','installment','annualIncome','dti',\n",
    "            'ficoRangeLow','ficoRangeHigh','openAcc','revolBal','revolUtil','totalAcc']\n",
    "for fea in tqdm(amount_feas):\n",
    "    # 通过除法映射到间隔均匀的分箱中，每个分箱的取值范围都是loanAmnt/100\n",
    "    data['{}_bin1'.format(fea)] = np.floor_divide(data[fea], 100)\n",
    "    ## 通过对数函数映射到指数宽度分箱\n",
    "    data['{}_bin2'.format(fea)] = np.floor(np.log10(data[fea]))\n",
    "    # 分位数分箱\n",
    "    data['{}_bin3'.format(fea)] = pd.qcut(data[fea], 10, labels=False)"
   ]
  },
  {
   "cell_type": "markdown",
   "metadata": {},
   "source": [
    "###  特征交互"
   ]
  },
  {
   "cell_type": "markdown",
   "metadata": {},
   "source": [
    "**其他衍生变量 mean 和 std**"
   ]
  },
  {
   "cell_type": "code",
   "execution_count": 115,
   "metadata": {},
   "outputs": [
    {
     "name": "stderr",
     "output_type": "stream",
     "text": [
      "100%|██████████| 15/15 [00:26<00:00,  1.74s/it]\n"
     ]
    }
   ],
   "source": [
    "for item in tqdm(['n0','n1','n2','n2.1','n4','n5','n6','n7','n8','n9','n10','n11','n12','n13','n14']):\n",
    "    data['grade_to_mean_' + item] = data['grade'] / data.groupby([item])['grade'].transform('mean')\n",
    "    data['grade_to_std_' + item] = data['grade'] / data.groupby([item])['grade'].transform('std')"
   ]
  },
  {
   "cell_type": "markdown",
   "metadata": {},
   "source": [
    "**类别特征nunique特征**"
   ]
  },
  {
   "cell_type": "code",
   "execution_count": 116,
   "metadata": {},
   "outputs": [
    {
     "name": "stderr",
     "output_type": "stream",
     "text": [
      "100%|██████████| 11/11 [02:46<00:00, 15.14s/it]\n"
     ]
    }
   ],
   "source": [
    "cat_list = ['grade', 'subGrade', 'employmentTitle',\n",
    "                'homeOwnership', 'verificationStatus', 'purpose',\n",
    "                'postCode', 'regionCode',\n",
    "                'applicationType', 'initialListStatus', 'title']\n",
    "nuni_feat =cat_list\n",
    "multi_feat = cat_list\n",
    "for i in tqdm(nuni_feat):\n",
    "    for j in multi_feat:\n",
    "        if i != j:\n",
    "            data['nuni_{0}_{1}'.format(i,j)] = data[i].map(data.groupby(i)[j].nunique())"
   ]
  },
  {
   "cell_type": "code",
   "execution_count": 119,
   "metadata": {},
   "outputs": [
    {
     "data": {
      "text/plain": [
       "(1000000, 284)"
      ]
     },
     "execution_count": 119,
     "metadata": {},
     "output_type": "execute_result"
    }
   ],
   "source": [
    "data.shape"
   ]
  },
  {
   "cell_type": "markdown",
   "metadata": {},
   "source": [
    "### 五折转化率特征"
   ]
  },
  {
   "cell_type": "code",
   "execution_count": 108,
   "metadata": {},
   "outputs": [
    {
     "name": "stderr",
     "output_type": "stream",
     "text": [
      "100%|██████████| 11/11 [00:38<00:00,  3.53s/it]\n"
     ]
    }
   ],
   "source": [
    "cat_list = ['grade', 'subGrade', 'employmentTitle',\n",
    "                'homeOwnership', 'verificationStatus', 'purpose',\n",
    "                'postCode', 'regionCode',\n",
    "                'applicationType', 'initialListStatus', 'title']\n",
    "\n",
    "data['ID'] = data.index\n",
    "data['fold'] = data['ID'] % 5\n",
    "data.loc[data['isDefault'].isnull(), 'fold'] = 5\n",
    "target_feat = []\n",
    "for i in tqdm(cat_list):\n",
    "    target_feat.extend([i + '_mean_last_1'])\n",
    "    data[i + '_mean_last_1'] = None\n",
    "    for fold in range(6):\n",
    "        data.loc[data['fold'] == fold, i + '_mean_last_1'] = data[data['fold'] == fold][i].map(\n",
    "            data[(data['fold'] != fold) & (data['fold'] != 5)].groupby(i)['isDefault'].mean()\n",
    "        )\n",
    "    data[i + '_mean_last_1'] = data[i + '_mean_last_1'].astype(float)"
   ]
  },
  {
   "cell_type": "code",
   "execution_count": 122,
   "metadata": {},
   "outputs": [
    {
     "data": {
      "text/plain": [
       "(1000000, 284)"
      ]
     },
     "execution_count": 122,
     "metadata": {},
     "output_type": "execute_result"
    }
   ],
   "source": [
    "data.shape"
   ]
  },
  {
   "cell_type": "code",
   "execution_count": 121,
   "metadata": {},
   "outputs": [
    {
     "data": {
      "text/plain": [
       "280"
      ]
     },
     "execution_count": 121,
     "metadata": {},
     "output_type": "execute_result"
    }
   ],
   "source": [
    "no_fea = ['id', 'policyCode',\n",
    "              'isDefault', 'ID', 'fold',\n",
    "              ]\n",
    "features = [fea for fea in data.columns if fea not in no_fea]\n",
    "len(features)"
   ]
  },
  {
   "cell_type": "code",
   "execution_count": null,
   "metadata": {},
   "outputs": [],
   "source": [
    "## LGB"
   ]
  },
  {
   "cell_type": "code",
   "execution_count": 124,
   "metadata": {},
   "outputs": [],
   "source": [
    "train_size = len(train)\n",
    "\n",
    "features = [fea for fea in data.columns if fea not in no_fea]\n",
    "train = data[:train_size]\n",
    "test = data[train_size:]\n"
   ]
  },
  {
   "cell_type": "code",
   "execution_count": 125,
   "metadata": {},
   "outputs": [],
   "source": [
    "import time\n",
    "import lightgbm as lgb\n",
    "import matplotlib.pyplot as plt\n",
    "import numpy as np\n",
    "import pandas as pd\n",
    "import seaborn as sns\n",
    "import xgboost as xgb\n",
    "from catboost import CatBoostClassifier\n",
    "from sklearn import metrics\n",
    "from sklearn.model_selection import StratifiedKFold\n"
   ]
  },
  {
   "cell_type": "code",
   "execution_count": 128,
   "metadata": {
    "scrolled": false
   },
   "outputs": [
    {
     "name": "stdout",
     "output_type": "stream",
     "text": [
      "分类个数num_classes:2\n",
      "Fold 1 started at Sat Sep 12 03:01:17 2020\n",
      "Training until validation scores don't improve for 200 rounds\n",
      "[200]\ttraining's binary_logloss: 0.432204\ttraining's auc: 0.751752\tvalid_1's binary_logloss: 0.439275\tvalid_1's auc: 0.738682\n",
      "[400]\ttraining's binary_logloss: 0.424633\ttraining's auc: 0.764816\tvalid_1's binary_logloss: 0.43903\tvalid_1's auc: 0.739152\n",
      "[600]\ttraining's binary_logloss: 0.417739\ttraining's auc: 0.776752\tvalid_1's binary_logloss: 0.438934\tvalid_1's auc: 0.739406\n",
      "[800]\ttraining's binary_logloss: 0.411295\ttraining's auc: 0.787674\tvalid_1's binary_logloss: 0.439215\tvalid_1's auc: 0.738998\n",
      "Early stopping, best iteration is:\n",
      "[604]\ttraining's binary_logloss: 0.417589\ttraining's auc: 0.776994\tvalid_1's binary_logloss: 0.438921\tvalid_1's auc: 0.739434\n",
      "[0.80766875]\n",
      "Fold 2 started at Sat Sep 12 03:03:07 2020\n",
      "[LightGBM] [Warning] bagging_freq is set=8, subsample_freq=0 will be ignored. Current value: bagging_freq=8\n",
      "[LightGBM] [Warning] min_sum_hessian_in_leaf is set=1.11347, min_child_weight=0.18654 will be ignored. Current value: min_sum_hessian_in_leaf=1.11347\n",
      "[LightGBM] [Warning] num_threads is set=4, n_jobs=-1 will be ignored. Current value: num_threads=4\n",
      "[LightGBM] [Warning] lambda_l1 is set=0.55831, reg_alpha=0.0 will be ignored. Current value: lambda_l1=0.55831\n",
      "[LightGBM] [Warning] min_data_in_leaf is set=40, min_child_samples=20 will be ignored. Current value: min_data_in_leaf=40\n",
      "[LightGBM] [Warning] lambda_l2 is set=1.67906, reg_lambda=0.0 will be ignored. Current value: lambda_l2=1.67906\n",
      "[LightGBM] [Warning] feature_fraction is set=0.38691, colsample_bytree=0.7 will be ignored. Current value: feature_fraction=0.38691\n",
      "[LightGBM] [Warning] bagging_fraction is set=0.80718, subsample=0.7 will be ignored. Current value: bagging_fraction=0.80718\n",
      "Training until validation scores don't improve for 200 rounds\n",
      "[200]\ttraining's binary_logloss: 0.431874\ttraining's auc: 0.752296\tvalid_1's binary_logloss: 0.440389\tvalid_1's auc: 0.736451\n",
      "[400]\ttraining's binary_logloss: 0.42428\ttraining's auc: 0.765207\tvalid_1's binary_logloss: 0.440046\tvalid_1's auc: 0.737026\n",
      "Early stopping, best iteration is:\n",
      "[378]\ttraining's binary_logloss: 0.425069\ttraining's auc: 0.763868\tvalid_1's binary_logloss: 0.440004\tvalid_1's auc: 0.737098\n",
      "[0.80766875, 0.80690625]\n",
      "Fold 3 started at Sat Sep 12 03:04:29 2020\n",
      "[LightGBM] [Warning] bagging_freq is set=8, subsample_freq=0 will be ignored. Current value: bagging_freq=8\n",
      "[LightGBM] [Warning] min_sum_hessian_in_leaf is set=1.11347, min_child_weight=0.18654 will be ignored. Current value: min_sum_hessian_in_leaf=1.11347\n",
      "[LightGBM] [Warning] num_threads is set=4, n_jobs=-1 will be ignored. Current value: num_threads=4\n",
      "[LightGBM] [Warning] lambda_l1 is set=0.55831, reg_alpha=0.0 will be ignored. Current value: lambda_l1=0.55831\n",
      "[LightGBM] [Warning] min_data_in_leaf is set=40, min_child_samples=20 will be ignored. Current value: min_data_in_leaf=40\n",
      "[LightGBM] [Warning] lambda_l2 is set=1.67906, reg_lambda=0.0 will be ignored. Current value: lambda_l2=1.67906\n",
      "[LightGBM] [Warning] feature_fraction is set=0.38691, colsample_bytree=0.7 will be ignored. Current value: feature_fraction=0.38691\n",
      "[LightGBM] [Warning] bagging_fraction is set=0.80718, subsample=0.7 will be ignored. Current value: bagging_fraction=0.80718\n",
      "Training until validation scores don't improve for 200 rounds\n",
      "[200]\ttraining's binary_logloss: 0.432215\ttraining's auc: 0.751821\tvalid_1's binary_logloss: 0.438687\tvalid_1's auc: 0.739992\n",
      "[400]\ttraining's binary_logloss: 0.42468\ttraining's auc: 0.764813\tvalid_1's binary_logloss: 0.438302\tvalid_1's auc: 0.740611\n",
      "[600]\ttraining's binary_logloss: 0.417818\ttraining's auc: 0.776745\tvalid_1's binary_logloss: 0.4382\tvalid_1's auc: 0.740843\n",
      "[800]\ttraining's binary_logloss: 0.411363\ttraining's auc: 0.787612\tvalid_1's binary_logloss: 0.438412\tvalid_1's auc: 0.740574\n",
      "Early stopping, best iteration is:\n",
      "[602]\ttraining's binary_logloss: 0.417745\ttraining's auc: 0.776879\tvalid_1's binary_logloss: 0.438193\tvalid_1's auc: 0.740853\n",
      "[0.80766875, 0.80690625, 0.80741875]\n",
      "Fold 4 started at Sat Sep 12 03:06:09 2020\n",
      "[LightGBM] [Warning] bagging_freq is set=8, subsample_freq=0 will be ignored. Current value: bagging_freq=8\n",
      "[LightGBM] [Warning] min_sum_hessian_in_leaf is set=1.11347, min_child_weight=0.18654 will be ignored. Current value: min_sum_hessian_in_leaf=1.11347\n",
      "[LightGBM] [Warning] num_threads is set=4, n_jobs=-1 will be ignored. Current value: num_threads=4\n",
      "[LightGBM] [Warning] lambda_l1 is set=0.55831, reg_alpha=0.0 will be ignored. Current value: lambda_l1=0.55831\n",
      "[LightGBM] [Warning] min_data_in_leaf is set=40, min_child_samples=20 will be ignored. Current value: min_data_in_leaf=40\n",
      "[LightGBM] [Warning] lambda_l2 is set=1.67906, reg_lambda=0.0 will be ignored. Current value: lambda_l2=1.67906\n",
      "[LightGBM] [Warning] feature_fraction is set=0.38691, colsample_bytree=0.7 will be ignored. Current value: feature_fraction=0.38691\n",
      "[LightGBM] [Warning] bagging_fraction is set=0.80718, subsample=0.7 will be ignored. Current value: bagging_fraction=0.80718\n",
      "Training until validation scores don't improve for 200 rounds\n",
      "[200]\ttraining's binary_logloss: 0.432337\ttraining's auc: 0.751528\tvalid_1's binary_logloss: 0.439166\tvalid_1's auc: 0.738979\n",
      "[400]\ttraining's binary_logloss: 0.424694\ttraining's auc: 0.764789\tvalid_1's binary_logloss: 0.438874\tvalid_1's auc: 0.739436\n",
      "[600]\ttraining's binary_logloss: 0.417826\ttraining's auc: 0.776558\tvalid_1's binary_logloss: 0.438916\tvalid_1's auc: 0.739363\n",
      "Early stopping, best iteration is:\n",
      "[503]\ttraining's binary_logloss: 0.421122\ttraining's auc: 0.770975\tvalid_1's binary_logloss: 0.438808\tvalid_1's auc: 0.739573\n",
      "[0.80766875, 0.80690625, 0.80741875, 0.80745]\n",
      "Fold 5 started at Sat Sep 12 03:07:43 2020\n",
      "[LightGBM] [Warning] bagging_freq is set=8, subsample_freq=0 will be ignored. Current value: bagging_freq=8\n",
      "[LightGBM] [Warning] min_sum_hessian_in_leaf is set=1.11347, min_child_weight=0.18654 will be ignored. Current value: min_sum_hessian_in_leaf=1.11347\n",
      "[LightGBM] [Warning] num_threads is set=4, n_jobs=-1 will be ignored. Current value: num_threads=4\n",
      "[LightGBM] [Warning] lambda_l1 is set=0.55831, reg_alpha=0.0 will be ignored. Current value: lambda_l1=0.55831\n",
      "[LightGBM] [Warning] min_data_in_leaf is set=40, min_child_samples=20 will be ignored. Current value: min_data_in_leaf=40\n",
      "[LightGBM] [Warning] lambda_l2 is set=1.67906, reg_lambda=0.0 will be ignored. Current value: lambda_l2=1.67906\n",
      "[LightGBM] [Warning] feature_fraction is set=0.38691, colsample_bytree=0.7 will be ignored. Current value: feature_fraction=0.38691\n",
      "[LightGBM] [Warning] bagging_fraction is set=0.80718, subsample=0.7 will be ignored. Current value: bagging_fraction=0.80718\n",
      "Training until validation scores don't improve for 200 rounds\n",
      "[200]\ttraining's binary_logloss: 0.432119\ttraining's auc: 0.751885\tvalid_1's binary_logloss: 0.439716\tvalid_1's auc: 0.737626\n",
      "[400]\ttraining's binary_logloss: 0.424536\ttraining's auc: 0.764902\tvalid_1's binary_logloss: 0.439243\tvalid_1's auc: 0.738401\n",
      "[600]\ttraining's binary_logloss: 0.417841\ttraining's auc: 0.776296\tvalid_1's binary_logloss: 0.439285\tvalid_1's auc: 0.73842\n",
      "Early stopping, best iteration is:\n",
      "[454]\ttraining's binary_logloss: 0.422728\ttraining's auc: 0.767948\tvalid_1's binary_logloss: 0.43919\tvalid_1's auc: 0.738497\n",
      "[0.80766875, 0.80690625, 0.80741875, 0.80745, 0.80799375]\n",
      "CV mean score: 0.8075, std: 0.0004.\n"
     ]
    },
    {
     "data": {
      "image/png": "[encoded data removed]",
      "text/plain": [
       "<Figure size 1152x864 with 1 Axes>"
      ]
     },
     "metadata": {
      "needs_background": "light"
     },
     "output_type": "display_data"
    },
    {
     "name": "stdout",
     "output_type": "stream",
     "text": [
      "train_model_classification cost time:478.3310031890869\n",
      "0.8074874999999999\n"
     ]
    }
   ],
   "source": [
    "def train_model_classification(X, X_test, y, params, num_classes=2,\n",
    "                               folds=None, model_type='lgb',\n",
    "                               eval_metric='logloss', columns=None,\n",
    "                               plot_feature_importance=False,\n",
    "                               model=None, verbose=10000,\n",
    "                               early_stopping_rounds=200,\n",
    "                               splits=None, n_folds=3):\n",
    "    \"\"\"\n",
    "    分类模型函数\n",
    "    返回字典，包括： oof predictions, test predictions, scores and, if necessary, feature importances.\n",
    "    :params: X - 训练数据， pd.DataFrame\n",
    "    :params: X_test - 测试数据，pd.DataFrame\n",
    "    :params: y - 目标\n",
    "    :params: folds - folds to split data\n",
    "    :params: model_type - 模型\n",
    "    :params: eval_metric - 评价指标\n",
    "    :params: columns - 特征列\n",
    "    :params: plot_feature_importance - 是否展示特征重要性\n",
    "    :params: model - sklearn model, works only for \"sklearn\" model type\n",
    "    \"\"\"\n",
    "    start_time = time.time()\n",
    "    global y_pred_valid, y_pred\n",
    "\n",
    "    columns = X.columns if columns is None else columns\n",
    "    X_test = X_test[columns]\n",
    "    splits = folds.split(X, y) if splits is None else splits\n",
    "    n_splits = folds.n_splits if splits is None else n_folds\n",
    "\n",
    "    # to set up scoring parameters\n",
    "    metrics_dict = {\n",
    "        'logloss': {\n",
    "            'lgb_metric_name': 'logloss',\n",
    "            'xgb_metric_name': 'mlogloss',\n",
    "            'catboost_metric_name': 'Logloss',\n",
    "            'sklearn_scoring_function': metrics.log_loss\n",
    "        },\n",
    "        'lb_score_method': {\n",
    "            'sklearn_scoring_f1': metrics.f1_score,  # 线上评价指标\n",
    "            'sklearn_scoring_accuracy': metrics.accuracy_score,  # 线上评价指标\n",
    "            'sklearn_scoring_auc': metrics.roc_auc_score\n",
    "        },\n",
    "    }\n",
    "    result_dict = {}\n",
    "\n",
    "    # out-of-fold predictions on train data\n",
    "    oof = np.zeros(shape=(len(X), num_classes))\n",
    "    # averaged predictions on train data\n",
    "    prediction = np.zeros(shape=(len(X_test), num_classes))\n",
    "    # list of scores on folds\n",
    "    scores = []\n",
    "    # feature importance\n",
    "    feature_importance = pd.DataFrame()\n",
    "\n",
    "    # split and train on folds\n",
    "    for fold_n, (train_index, valid_index) in enumerate(splits):\n",
    "        if verbose:\n",
    "            print(f'Fold {fold_n + 1} started at {time.ctime()}')\n",
    "        if type(X) == np.ndarray:\n",
    "            X_train, X_valid = X[train_index], X[valid_index]\n",
    "            y_train, y_valid = y[train_index], y[valid_index]\n",
    "        else:\n",
    "            X_train, X_valid = X[columns].iloc[train_index], X[columns].iloc[valid_index]\n",
    "            y_train, y_valid = y.iloc[train_index], y.iloc[valid_index]\n",
    "\n",
    "        if model_type == 'lgb':\n",
    "            model = lgb.LGBMClassifier(**params)\n",
    "            model.fit(X_train, y_train,\n",
    "                      eval_set=[(X_train, y_train), (X_valid, y_valid)],\n",
    "                      eval_metric=metrics_dict[eval_metric]['lgb_metric_name'],\n",
    "                      verbose=verbose,\n",
    "                      early_stopping_rounds=early_stopping_rounds)\n",
    "\n",
    "            y_pred_valid = model.predict_proba(X_valid)\n",
    "            y_pred = model.predict_proba(X_test, num_iteration=model.best_iteration_)\n",
    "\n",
    "        if model_type == 'xgb':\n",
    "            model = xgb.XGBClassifier(**params)\n",
    "            model.fit(X_train, y_train,\n",
    "                      eval_set=[(X_train, y_train), (X_valid, y_valid)],\n",
    "                      eval_metric=metrics_dict[eval_metric]['xgb_metric_name'],\n",
    "                      verbose=bool(verbose),  # xgb verbose bool\n",
    "                      early_stopping_rounds=early_stopping_rounds)\n",
    "            y_pred_valid = model.predict_proba(X_valid)\n",
    "            y_pred = model.predict_proba(X_test, ntree_limit=model.best_ntree_limit)\n",
    "        if model_type == 'sklearn':\n",
    "            model = model\n",
    "            model.fit(X_train, y_train)\n",
    "            y_pred_valid = model.predict_proba(X_valid)\n",
    "            score = metrics_dict[eval_metric]['sklearn_scoring_function'](y_valid, y_pred_valid)\n",
    "            print(f'Fold {fold_n}. {eval_metric}: {score:.4f}.')\n",
    "            y_pred = model.predict_proba(X_test)\n",
    "\n",
    "        if model_type == 'cat':\n",
    "            model = CatBoostClassifier(iterations=20000, eval_metric=metrics_dict[eval_metric]['catboost_metric_name'],\n",
    "                                       **params,\n",
    "                                       loss_function=metrics_dict[eval_metric]['catboost_metric_name'])\n",
    "            model.fit(X_train, y_train, eval_set=(X_valid, y_valid), cat_features=[], use_best_model=True,\n",
    "                      verbose=False)\n",
    "\n",
    "            y_pred_valid = model.predict_proba(X_valid)\n",
    "            y_pred = model.predict_proba(X_test)\n",
    "\n",
    "        oof[valid_index] = y_pred_valid\n",
    "        # 评价指标\n",
    "        scores.append(\n",
    "            metrics_dict['lb_score_method']['sklearn_scoring_accuracy'](y_valid, np.argmax(y_pred_valid, axis=1)))\n",
    "        print(scores)\n",
    "        prediction += y_pred\n",
    "\n",
    "        if model_type == 'lgb' and plot_feature_importance:\n",
    "            # feature importance\n",
    "            fold_importance = pd.DataFrame()\n",
    "            fold_importance[\"feature\"] = columns\n",
    "            fold_importance[\"importance\"] = model.feature_importances_\n",
    "            fold_importance[\"fold\"] = fold_n + 1\n",
    "            feature_importance = pd.concat([feature_importance, fold_importance], axis=0)\n",
    "\n",
    "        if model_type == 'xgb' and plot_feature_importance:\n",
    "            # feature importance\n",
    "            fold_importance = pd.DataFrame()\n",
    "            fold_importance[\"feature\"] = columns\n",
    "            fold_importance[\"importance\"] = model.feature_importances_\n",
    "            fold_importance[\"fold\"] = fold_n + 1\n",
    "            feature_importance = pd.concat([feature_importance, fold_importance], axis=0)\n",
    "    prediction /= n_splits\n",
    "    print('CV mean score: {0:.4f}, std: {1:.4f}.'.format(np.mean(scores), np.std(scores)))\n",
    "\n",
    "    result_dict['oof'] = oof\n",
    "    result_dict['prediction'] = prediction\n",
    "    result_dict['scores'] = scores\n",
    "\n",
    "    if model_type == 'lgb' or model_type == 'xgb':\n",
    "        if plot_feature_importance:\n",
    "            feature_importance[\"importance\"] /= n_splits\n",
    "            cols = feature_importance[[\"feature\", \"importance\"]].groupby(\"feature\").mean().sort_values(\n",
    "                by=\"importance\", ascending=False)[:50].index\n",
    "\n",
    "            best_features = feature_importance.loc[feature_importance.feature.isin(cols)]\n",
    "\n",
    "            plt.figure(figsize=(16, 12))\n",
    "            sns.barplot(x=\"importance\", y=\"feature\", data=best_features.sort_values(by=\"importance\", ascending=False))\n",
    "            plt.title('LGB Features (avg over folds)')\n",
    "            plt.show()\n",
    "            result_dict['feature_importance'] = feature_importance\n",
    "            # print(feature_importance)\n",
    "    end_time = time.time()\n",
    "\n",
    "    print(\"train_model_classification cost time:{}\".format(end_time - start_time))\n",
    "    return result_dict\n",
    "\n",
    "\n",
    "lgb_params = {\n",
    "    'boosting_type': 'gbdt',\n",
    "    'objective': 'binary',\n",
    "    'n_estimators': 100000,\n",
    "    'learning_rate': 0.1,\n",
    "    'random_state': 2948,\n",
    "    'bagging_freq': 8,\n",
    "    'bagging_fraction': 0.80718,\n",
    "    # 'bagging_seed': 11,\n",
    "    'feature_fraction': 0.38691,  # 0.3\n",
    "    'feature_fraction_seed': 11,\n",
    "    'max_depth': 9,\n",
    "    'min_data_in_leaf': 40,\n",
    "    'min_child_weight': 0.18654,\n",
    "    \"min_split_gain\": 0.35079,\n",
    "    'min_sum_hessian_in_leaf': 1.11347,\n",
    "    'num_leaves': 29,\n",
    "    'num_threads': 4,\n",
    "    \"lambda_l1\": 0.55831,\n",
    "    'lambda_l2': 1.67906,\n",
    "    'cat_smooth': 10.4,\n",
    "    'subsample': 0.7,\n",
    "    'colsample_bytree': 0.7,\n",
    "    'n_jobs': -1,\n",
    "    'metric':'auc'\n",
    "    # 'verbosity': 1,\n",
    "}\n",
    "\n",
    "n_fold = 5\n",
    "num_classes = 2\n",
    "print(\"分类个数num_classes:{}\".format(num_classes))\n",
    "folds = StratifiedKFold(n_splits=n_fold, random_state=1314)\n",
    "\n",
    "X = train[features]\n",
    "y=train['isDefault']\n",
    "X_test = test[features]\n",
    "\n",
    "result_dict_lgb = train_model_classification(X=X,\n",
    "                                             X_test=X_test,\n",
    "                                             y=y,\n",
    "                                             params=lgb_params,\n",
    "                                             num_classes=num_classes,\n",
    "                                             folds=folds,\n",
    "                                             model_type='lgb',\n",
    "                                             eval_metric='logloss',\n",
    "                                             plot_feature_importance=True,\n",
    "                                             verbose=200,\n",
    "                                             early_stopping_rounds=200)\n",
    "\n",
    "score = np.mean(result_dict_lgb['scores'])\n",
    "print(score)\n",
    "test['isDefault'] = result_dict_lgb['prediction'][:, 1]\n",
    "test[['id', 'isDefault']].to_csv('result/lgb_{}.csv'.format(score), index=False)\n"
   ]
  },
  {
   "cell_type": "code",
   "execution_count": 130,
   "metadata": {},
   "outputs": [],
   "source": [
    "import pickle \n",
    "with open('data/data.pickle','wb') as f:\n",
    "    pickle.dump(data,f)"
   ]
  },
  {
   "cell_type": "code",
   "execution_count": null,
   "metadata": {},
   "outputs": [],
   "source": []
  }
 ],
 "metadata": {
  "kernelspec": {
   "display_name": "Python 3",
   "language": "python",
   "name": "python3"
  },
  "language_info": {
   "codemirror_mode": {
    "name": "ipython",
    "version": 3
   },
   "file_extension": ".py",
   "mimetype": "text/x-python",
   "name": "python",
   "nbconvert_exporter": "python",
   "pygments_lexer": "ipython3",
   "version": "3.8.3"
  }
 },
 "nbformat": 4,
 "nbformat_minor": 1
}
